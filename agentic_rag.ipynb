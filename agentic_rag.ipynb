{
 "cells": [
  {
   "cell_type": "markdown",
   "id": "48eabe32",
   "metadata": {},
   "source": [
    "# <h1 align=\"center\"><font color=\"red\">Agente RAG vs RAG Tradicional</font></h1>"
   ]
  },
  {
   "cell_type": "markdown",
   "id": "5ca6e19a",
   "metadata": {},
   "source": [
    "<font color=\"pink\">Senior Data Scientist.: Dr. Eddy Giusepe Chirinos Isidro</font>"
   ]
  },
  {
   "cell_type": "markdown",
   "id": "ae909ada",
   "metadata": {},
   "source": [
    "Link de estudo:\n",
    "\n",
    "* [Build Agentic RAG using LangGraph](https://ai.plainenglish.io/build-agentic-rag-using-langgraph-b568aa26d710)"
   ]
  },
  {
   "cell_type": "code",
   "execution_count": 2,
   "id": "c2b90f83",
   "metadata": {},
   "outputs": [],
   "source": [
    "import pandas as pd\n",
    "from openai import OpenAI\n",
    "from langchain_community.utilities import GoogleSerperAPIWrapper\n",
    "from typing import List\n",
    "\n",
    "\n",
    "\n",
    "# ✅ Carregando as variáveis de ambiente:\n",
    "import os\n",
    "from dotenv import load_dotenv, find_dotenv\n",
    "\n",
    "# ✅ Carregar variáveis de ambiente:\n",
    "_ = load_dotenv(find_dotenv())  # read local .env file\n",
    "OPENAI_API_KEY = os.environ[\"OPENAI_API_KEY\"]\n",
    "SERPER_API_KEY = os.getenv(\"SERPER_API_KEY\")\n"
   ]
  },
  {
   "cell_type": "markdown",
   "id": "8ca50d41",
   "metadata": {},
   "source": [
    "## <font color=\"gree\">Baixando os Dados: `MedQuad_Q&A` e `MedDeviceManuals`</font>"
   ]
  },
  {
   "cell_type": "code",
   "execution_count": 3,
   "id": "d27f591f",
   "metadata": {},
   "outputs": [
    {
     "name": "stdout",
     "output_type": "stream",
     "text": [
      "O shape do meu dataset é: (16407, 3)\n",
      "O shape, agora, do meu dataset é: (20, 3)\n"
     ]
    },
    {
     "data": {
      "text/html": [
       "<style type=\"text/css\">\n",
       "</style>\n",
       "<table id=\"T_4cfa6\">\n",
       "  <thead>\n",
       "    <tr>\n",
       "      <th class=\"blank level0\" >&nbsp;</th>\n",
       "      <th id=\"T_4cfa6_level0_col0\" class=\"col_heading level0 col0\" >qtype</th>\n",
       "      <th id=\"T_4cfa6_level0_col1\" class=\"col_heading level0 col1\" >Question</th>\n",
       "      <th id=\"T_4cfa6_level0_col2\" class=\"col_heading level0 col2\" >Answer</th>\n",
       "    </tr>\n",
       "  </thead>\n",
       "  <tbody>\n",
       "    <tr>\n",
       "      <th id=\"T_4cfa6_level0_row0\" class=\"row_heading level0 row0\" >0</th>\n",
       "      <td id=\"T_4cfa6_row0_col0\" class=\"data row0 col0\" >susceptibility</td>\n",
       "      <td id=\"T_4cfa6_row0_col1\" class=\"data row0 col1\" >Who is at risk for Lymphocytic Choriomeningitis (LCM)? ?</td>\n",
       "      <td id=\"T_4cfa6_row0_col2\" class=\"data row0 col2\" >LCMV infections can occur after exposure to fresh urine, droppings, saliva, or nesting materials from infected rodents.  Transmission may also occur when these materials are directly introduced into broken skin, the nose, the eyes, or the mouth, or presumably, via the bite of an infected rodent. Person-to-person transmission has not been reported, with the exception of vertical transmission from infected mother to fetus, and rarely, through organ transplantation.</td>\n",
       "    </tr>\n",
       "    <tr>\n",
       "      <th id=\"T_4cfa6_level0_row1\" class=\"row_heading level0 row1\" >1</th>\n",
       "      <td id=\"T_4cfa6_row1_col0\" class=\"data row1 col0\" >symptoms</td>\n",
       "      <td id=\"T_4cfa6_row1_col1\" class=\"data row1 col1\" >What are the symptoms of Lymphocytic Choriomeningitis (LCM) ?</td>\n",
       "      <td id=\"T_4cfa6_row1_col2\" class=\"data row1 col2\" >LCMV is most commonly recognized as causing neurological disease, as its name implies, though infection without symptoms or mild febrile illnesses are more common clinical manifestations. \n",
       "                \n",
       "For infected persons who do become ill, onset of symptoms usually occurs 8-13 days after exposure to the virus as part of a biphasic febrile illness. This initial phase, which may last as long as a week, typically begins with any or all of the following symptoms: fever, malaise, lack of appetite, muscle aches, headache, nausea, and vomiting. Other symptoms appearing less frequently include sore throat, cough, joint pain, chest pain, testicular pain, and parotid (salivary gland) pain. \n",
       "                \n",
       "Following a few days of recovery, a second phase of illness may occur. Symptoms may consist of meningitis (fever, headache, stiff neck, etc.), encephalitis (drowsiness, confusion, sensory disturbances, and/or motor abnormalities, such as paralysis), or meningoencephalitis (inflammation of both the brain and meninges). LCMV has also been known to cause acute hydrocephalus (increased fluid on the brain), which often requires surgical shunting to relieve increased intracranial pressure. In rare instances, infection results in myelitis (inflammation of the spinal cord) and presents with symptoms such as muscle weakness, paralysis, or changes in body sensation. An association between LCMV infection and myocarditis (inflammation of the heart muscles) has been suggested. \n",
       "                \n",
       "Previous observations show that most patients who develop aseptic meningitis or encephalitis due to LCMV survive. No chronic infection has been described in humans, and after the acute phase of illness, the virus is cleared from the body. However, as in all infections of the central nervous system, particularly encephalitis, temporary or permanent neurological damage is possible. Nerve deafness and arthritis have been reported. \n",
       "                \n",
       "Women who become infected with LCMV during pregnancy may pass the infection on to the fetus. Infections occurring during the first trimester may result in fetal death and pregnancy termination, while in the second and third trimesters, birth defects can develop. Infants infected In utero can have many serious and permanent birth defects, including vision problems, mental retardation, and hydrocephaly (water on the brain). Pregnant women may recall a flu-like illness during pregnancy, or may not recall any illness. \n",
       "                \n",
       "LCM is usually not fatal. In general, mortality is less than 1%.</td>\n",
       "    </tr>\n",
       "    <tr>\n",
       "      <th id=\"T_4cfa6_level0_row2\" class=\"row_heading level0 row2\" >2</th>\n",
       "      <td id=\"T_4cfa6_row2_col0\" class=\"data row2 col0\" >susceptibility</td>\n",
       "      <td id=\"T_4cfa6_row2_col1\" class=\"data row2 col1\" >Who is at risk for Lymphocytic Choriomeningitis (LCM)? ?</td>\n",
       "      <td id=\"T_4cfa6_row2_col2\" class=\"data row2 col2\" >Individuals of all ages who come into contact with urine, feces, saliva, or blood of wild mice are potentially at risk for infection. Owners of pet mice or hamsters may be at risk for infection if these animals originate from colonies that were contaminated with LCMV, or if their animals are infected from other wild mice. Human fetuses are at risk of acquiring infection vertically from an infected mother. \n",
       "                \n",
       "Laboratory workers who work with the virus or handle infected animals are also at risk. However, this risk can be minimized by utilizing animals from sources that regularly test for the virus, wearing proper protective laboratory gear, and following appropriate safety precautions.</td>\n",
       "    </tr>\n",
       "  </tbody>\n",
       "</table>\n"
      ],
      "text/plain": [
       "<pandas.io.formats.style.Styler at 0x700d5ab35e10>"
      ]
     },
     "execution_count": 3,
     "metadata": {},
     "output_type": "execute_result"
    }
   ],
   "source": [
    "## Data 1: Leitura do Dataset de `Medical Q&A`\n",
    "df_qa = pd.read_csv(\"./data/MedQuad/medical_q_n_a.csv\")\n",
    "print(f\"O shape do meu dataset é: {df_qa.shape}\")\n",
    "\n",
    "## Data has 16407 rows, hence we will sample 500 rows for experimentation\n",
    "#df_qa = df_qa.sample(500, random_state=0).reset_index(drop=True)\n",
    "df_qa = df_qa.head(20).reset_index(drop=True)\n",
    "\n",
    "print(f\"O shape, agora, do meu dataset é: {df_qa.shape}\")\n",
    "\n",
    "df_qa.head(3).style"
   ]
  },
  {
   "cell_type": "code",
   "execution_count": 4,
   "id": "06254801",
   "metadata": {},
   "outputs": [
    {
     "data": {
      "text/html": [
       "<style type=\"text/css\">\n",
       "</style>\n",
       "<table id=\"T_4a9da\">\n",
       "  <thead>\n",
       "    <tr>\n",
       "      <th class=\"blank level0\" >&nbsp;</th>\n",
       "      <th id=\"T_4a9da_level0_col0\" class=\"col_heading level0 col0\" >qtype</th>\n",
       "      <th id=\"T_4a9da_level0_col1\" class=\"col_heading level0 col1\" >Question</th>\n",
       "      <th id=\"T_4a9da_level0_col2\" class=\"col_heading level0 col2\" >Answer</th>\n",
       "      <th id=\"T_4a9da_level0_col3\" class=\"col_heading level0 col3\" >combined_text</th>\n",
       "    </tr>\n",
       "  </thead>\n",
       "  <tbody>\n",
       "    <tr>\n",
       "      <th id=\"T_4a9da_level0_row0\" class=\"row_heading level0 row0\" >0</th>\n",
       "      <td id=\"T_4a9da_row0_col0\" class=\"data row0 col0\" >susceptibility</td>\n",
       "      <td id=\"T_4a9da_row0_col1\" class=\"data row0 col1\" >Who is at risk for Lymphocytic Choriomeningitis (LCM)? ?</td>\n",
       "      <td id=\"T_4a9da_row0_col2\" class=\"data row0 col2\" >LCMV infections can occur after exposure to fresh urine, droppings, saliva, or nesting materials from infected rodents.  Transmission may also occur when these materials are directly introduced into broken skin, the nose, the eyes, or the mouth, or presumably, via the bite of an infected rodent. Person-to-person transmission has not been reported, with the exception of vertical transmission from infected mother to fetus, and rarely, through organ transplantation.</td>\n",
       "      <td id=\"T_4a9da_row0_col3\" class=\"data row0 col3\" >Question: Who is at risk for Lymphocytic Choriomeningitis (LCM)? ?. Answer: LCMV infections can occur after exposure to fresh urine, droppings, saliva, or nesting materials from infected rodents.  Transmission may also occur when these materials are directly introduced into broken skin, the nose, the eyes, or the mouth, or presumably, via the bite of an infected rodent. Person-to-person transmission has not been reported, with the exception of vertical transmission from infected mother to fetus, and rarely, through organ transplantation.. Type: susceptibility. </td>\n",
       "    </tr>\n",
       "    <tr>\n",
       "      <th id=\"T_4a9da_level0_row1\" class=\"row_heading level0 row1\" >1</th>\n",
       "      <td id=\"T_4a9da_row1_col0\" class=\"data row1 col0\" >symptoms</td>\n",
       "      <td id=\"T_4a9da_row1_col1\" class=\"data row1 col1\" >What are the symptoms of Lymphocytic Choriomeningitis (LCM) ?</td>\n",
       "      <td id=\"T_4a9da_row1_col2\" class=\"data row1 col2\" >LCMV is most commonly recognized as causing neurological disease, as its name implies, though infection without symptoms or mild febrile illnesses are more common clinical manifestations. \n",
       "                \n",
       "For infected persons who do become ill, onset of symptoms usually occurs 8-13 days after exposure to the virus as part of a biphasic febrile illness. This initial phase, which may last as long as a week, typically begins with any or all of the following symptoms: fever, malaise, lack of appetite, muscle aches, headache, nausea, and vomiting. Other symptoms appearing less frequently include sore throat, cough, joint pain, chest pain, testicular pain, and parotid (salivary gland) pain. \n",
       "                \n",
       "Following a few days of recovery, a second phase of illness may occur. Symptoms may consist of meningitis (fever, headache, stiff neck, etc.), encephalitis (drowsiness, confusion, sensory disturbances, and/or motor abnormalities, such as paralysis), or meningoencephalitis (inflammation of both the brain and meninges). LCMV has also been known to cause acute hydrocephalus (increased fluid on the brain), which often requires surgical shunting to relieve increased intracranial pressure. In rare instances, infection results in myelitis (inflammation of the spinal cord) and presents with symptoms such as muscle weakness, paralysis, or changes in body sensation. An association between LCMV infection and myocarditis (inflammation of the heart muscles) has been suggested. \n",
       "                \n",
       "Previous observations show that most patients who develop aseptic meningitis or encephalitis due to LCMV survive. No chronic infection has been described in humans, and after the acute phase of illness, the virus is cleared from the body. However, as in all infections of the central nervous system, particularly encephalitis, temporary or permanent neurological damage is possible. Nerve deafness and arthritis have been reported. \n",
       "                \n",
       "Women who become infected with LCMV during pregnancy may pass the infection on to the fetus. Infections occurring during the first trimester may result in fetal death and pregnancy termination, while in the second and third trimesters, birth defects can develop. Infants infected In utero can have many serious and permanent birth defects, including vision problems, mental retardation, and hydrocephaly (water on the brain). Pregnant women may recall a flu-like illness during pregnancy, or may not recall any illness. \n",
       "                \n",
       "LCM is usually not fatal. In general, mortality is less than 1%.</td>\n",
       "      <td id=\"T_4a9da_row1_col3\" class=\"data row1 col3\" >Question: What are the symptoms of Lymphocytic Choriomeningitis (LCM) ?. Answer: LCMV is most commonly recognized as causing neurological disease, as its name implies, though infection without symptoms or mild febrile illnesses are more common clinical manifestations. \n",
       "                \n",
       "For infected persons who do become ill, onset of symptoms usually occurs 8-13 days after exposure to the virus as part of a biphasic febrile illness. This initial phase, which may last as long as a week, typically begins with any or all of the following symptoms: fever, malaise, lack of appetite, muscle aches, headache, nausea, and vomiting. Other symptoms appearing less frequently include sore throat, cough, joint pain, chest pain, testicular pain, and parotid (salivary gland) pain. \n",
       "                \n",
       "Following a few days of recovery, a second phase of illness may occur. Symptoms may consist of meningitis (fever, headache, stiff neck, etc.), encephalitis (drowsiness, confusion, sensory disturbances, and/or motor abnormalities, such as paralysis), or meningoencephalitis (inflammation of both the brain and meninges). LCMV has also been known to cause acute hydrocephalus (increased fluid on the brain), which often requires surgical shunting to relieve increased intracranial pressure. In rare instances, infection results in myelitis (inflammation of the spinal cord) and presents with symptoms such as muscle weakness, paralysis, or changes in body sensation. An association between LCMV infection and myocarditis (inflammation of the heart muscles) has been suggested. \n",
       "                \n",
       "Previous observations show that most patients who develop aseptic meningitis or encephalitis due to LCMV survive. No chronic infection has been described in humans, and after the acute phase of illness, the virus is cleared from the body. However, as in all infections of the central nervous system, particularly encephalitis, temporary or permanent neurological damage is possible. Nerve deafness and arthritis have been reported. \n",
       "                \n",
       "Women who become infected with LCMV during pregnancy may pass the infection on to the fetus. Infections occurring during the first trimester may result in fetal death and pregnancy termination, while in the second and third trimesters, birth defects can develop. Infants infected In utero can have many serious and permanent birth defects, including vision problems, mental retardation, and hydrocephaly (water on the brain). Pregnant women may recall a flu-like illness during pregnancy, or may not recall any illness. \n",
       "                \n",
       "LCM is usually not fatal. In general, mortality is less than 1%.. Type: symptoms. </td>\n",
       "    </tr>\n",
       "    <tr>\n",
       "      <th id=\"T_4a9da_level0_row2\" class=\"row_heading level0 row2\" >2</th>\n",
       "      <td id=\"T_4a9da_row2_col0\" class=\"data row2 col0\" >susceptibility</td>\n",
       "      <td id=\"T_4a9da_row2_col1\" class=\"data row2 col1\" >Who is at risk for Lymphocytic Choriomeningitis (LCM)? ?</td>\n",
       "      <td id=\"T_4a9da_row2_col2\" class=\"data row2 col2\" >Individuals of all ages who come into contact with urine, feces, saliva, or blood of wild mice are potentially at risk for infection. Owners of pet mice or hamsters may be at risk for infection if these animals originate from colonies that were contaminated with LCMV, or if their animals are infected from other wild mice. Human fetuses are at risk of acquiring infection vertically from an infected mother. \n",
       "                \n",
       "Laboratory workers who work with the virus or handle infected animals are also at risk. However, this risk can be minimized by utilizing animals from sources that regularly test for the virus, wearing proper protective laboratory gear, and following appropriate safety precautions.</td>\n",
       "      <td id=\"T_4a9da_row2_col3\" class=\"data row2 col3\" >Question: Who is at risk for Lymphocytic Choriomeningitis (LCM)? ?. Answer: Individuals of all ages who come into contact with urine, feces, saliva, or blood of wild mice are potentially at risk for infection. Owners of pet mice or hamsters may be at risk for infection if these animals originate from colonies that were contaminated with LCMV, or if their animals are infected from other wild mice. Human fetuses are at risk of acquiring infection vertically from an infected mother. \n",
       "                \n",
       "Laboratory workers who work with the virus or handle infected animals are also at risk. However, this risk can be minimized by utilizing animals from sources that regularly test for the virus, wearing proper protective laboratory gear, and following appropriate safety precautions.. Type: susceptibility. </td>\n",
       "    </tr>\n",
       "  </tbody>\n",
       "</table>\n"
      ],
      "text/plain": [
       "<pandas.io.formats.style.Styler at 0x700d59216350>"
      ]
     },
     "execution_count": 4,
     "metadata": {},
     "output_type": "execute_result"
    }
   ],
   "source": [
    "# Preparando o Dataframe para o VectorDB combinando o Texto:\n",
    "df_qa['combined_text'] = (\n",
    "    \"Question: \" + df_qa['Question'].astype(str) + \". \" +\n",
    "    \"Answer: \" + df_qa['Answer'].astype(str) + \". \" +\n",
    "    \"Type: \" + df_qa['qtype'].astype(str) + \". \"\n",
    ")\n",
    "\n",
    "df_qa.head(3).style"
   ]
  },
  {
   "cell_type": "code",
   "execution_count": 5,
   "id": "d4190ed7",
   "metadata": {},
   "outputs": [
    {
     "name": "stdout",
     "output_type": "stream",
     "text": [
      "O shape do meu dataset é: (2694, 16)\n",
      "O shape, agora, do meu dataset é: (20, 16)\n"
     ]
    },
    {
     "data": {
      "text/html": [
       "<style type=\"text/css\">\n",
       "</style>\n",
       "<table id=\"T_fd0f1\">\n",
       "  <thead>\n",
       "    <tr>\n",
       "      <th class=\"blank level0\" >&nbsp;</th>\n",
       "      <th id=\"T_fd0f1_level0_col0\" class=\"col_heading level0 col0\" >Device_Name</th>\n",
       "      <th id=\"T_fd0f1_level0_col1\" class=\"col_heading level0 col1\" >Model_Number</th>\n",
       "      <th id=\"T_fd0f1_level0_col2\" class=\"col_heading level0 col2\" >Manufacturer</th>\n",
       "      <th id=\"T_fd0f1_level0_col3\" class=\"col_heading level0 col3\" >Manual_Version</th>\n",
       "      <th id=\"T_fd0f1_level0_col4\" class=\"col_heading level0 col4\" >Publication_Date</th>\n",
       "      <th id=\"T_fd0f1_level0_col5\" class=\"col_heading level0 col5\" >Device_Class</th>\n",
       "      <th id=\"T_fd0f1_level0_col6\" class=\"col_heading level0 col6\" >Regulatory_Approval_ID</th>\n",
       "      <th id=\"T_fd0f1_level0_col7\" class=\"col_heading level0 col7\" >Patient_Population</th>\n",
       "      <th id=\"T_fd0f1_level0_col8\" class=\"col_heading level0 col8\" >Indications_for_Use</th>\n",
       "      <th id=\"T_fd0f1_level0_col9\" class=\"col_heading level0 col9\" >Contraindications</th>\n",
       "      <th id=\"T_fd0f1_level0_col10\" class=\"col_heading level0 col10\" >Sterilization_Method</th>\n",
       "      <th id=\"T_fd0f1_level0_col11\" class=\"col_heading level0 col11\" >Number_of_Warnings</th>\n",
       "      <th id=\"T_fd0f1_level0_col12\" class=\"col_heading level0 col12\" >Number_of_Cautions</th>\n",
       "      <th id=\"T_fd0f1_level0_col13\" class=\"col_heading level0 col13\" >Device_Lifetime_Years</th>\n",
       "      <th id=\"T_fd0f1_level0_col14\" class=\"col_heading level0 col14\" >Device_Weight_kg</th>\n",
       "      <th id=\"T_fd0f1_level0_col15\" class=\"col_heading level0 col15\" >Max_Operating_Temperature_C</th>\n",
       "    </tr>\n",
       "  </thead>\n",
       "  <tbody>\n",
       "    <tr>\n",
       "      <th id=\"T_fd0f1_level0_row0\" class=\"row_heading level0 row0\" >0</th>\n",
       "      <td id=\"T_fd0f1_row0_col0\" class=\"data row0 col0\" >Insulin Pump</td>\n",
       "      <td id=\"T_fd0f1_row0_col1\" class=\"data row0 col1\" >DAN246</td>\n",
       "      <td id=\"T_fd0f1_row0_col2\" class=\"data row0 col2\" >Danaher</td>\n",
       "      <td id=\"T_fd0f1_row0_col3\" class=\"data row0 col3\" >2023-05-C</td>\n",
       "      <td id=\"T_fd0f1_row0_col4\" class=\"data row0 col4\" >2022-01-27</td>\n",
       "      <td id=\"T_fd0f1_row0_col5\" class=\"data row0 col5\" >Class I</td>\n",
       "      <td id=\"T_fd0f1_row0_col6\" class=\"data row0 col6\" >NDA412861</td>\n",
       "      <td id=\"T_fd0f1_row0_col7\" class=\"data row0 col7\" >Adult and Pediatric</td>\n",
       "      <td id=\"T_fd0f1_row0_col8\" class=\"data row0 col8\" >Indicated for real-time heart rate assessment in emergency department triage protocols.</td>\n",
       "      <td id=\"T_fd0f1_row0_col9\" class=\"data row0 col9\" >Not recommended for use in radiation therapy patients or those with sepsis.</td>\n",
       "      <td id=\"T_fd0f1_row0_col10\" class=\"data row0 col10\" >nan</td>\n",
       "      <td id=\"T_fd0f1_row0_col11\" class=\"data row0 col11\" >11</td>\n",
       "      <td id=\"T_fd0f1_row0_col12\" class=\"data row0 col12\" >11</td>\n",
       "      <td id=\"T_fd0f1_row0_col13\" class=\"data row0 col13\" >5.000000</td>\n",
       "      <td id=\"T_fd0f1_row0_col14\" class=\"data row0 col14\" >7.850000</td>\n",
       "      <td id=\"T_fd0f1_row0_col15\" class=\"data row0 col15\" >12.000000</td>\n",
       "    </tr>\n",
       "    <tr>\n",
       "      <th id=\"T_fd0f1_level0_row1\" class=\"row_heading level0 row1\" >1</th>\n",
       "      <td id=\"T_fd0f1_row1_col0\" class=\"data row1 col0\" >Ventilator</td>\n",
       "      <td id=\"T_fd0f1_row1_col1\" class=\"data row1 col1\" >Model 4428</td>\n",
       "      <td id=\"T_fd0f1_row1_col2\" class=\"data row1 col2\" >Fresenius Medical Care</td>\n",
       "      <td id=\"T_fd0f1_row1_col3\" class=\"data row1 col3\" >v8.4</td>\n",
       "      <td id=\"T_fd0f1_row1_col4\" class=\"data row1 col4\" >2015-11-01</td>\n",
       "      <td id=\"T_fd0f1_row1_col5\" class=\"data row1 col5\" >Class II</td>\n",
       "      <td id=\"T_fd0f1_row1_col6\" class=\"data row1 col6\" >IDE380253</td>\n",
       "      <td id=\"T_fd0f1_row1_col7\" class=\"data row1 col7\" >Adult</td>\n",
       "      <td id=\"T_fd0f1_row1_col8\" class=\"data row1 col8\" >Intended for infection control evaluation in rehabilitation medicine for chronic conditions recovery.</td>\n",
       "      <td id=\"T_fd0f1_row1_col9\" class=\"data row1 col9\" >Not recommended in presence of pulmonary edema or at infected areas locations.</td>\n",
       "      <td id=\"T_fd0f1_row1_col10\" class=\"data row1 col10\" >Single-Use Sterile</td>\n",
       "      <td id=\"T_fd0f1_row1_col11\" class=\"data row1 col11\" >25</td>\n",
       "      <td id=\"T_fd0f1_row1_col12\" class=\"data row1 col12\" >13</td>\n",
       "      <td id=\"T_fd0f1_row1_col13\" class=\"data row1 col13\" >8.000000</td>\n",
       "      <td id=\"T_fd0f1_row1_col14\" class=\"data row1 col14\" >69.530000</td>\n",
       "      <td id=\"T_fd0f1_row1_col15\" class=\"data row1 col15\" >26.000000</td>\n",
       "    </tr>\n",
       "    <tr>\n",
       "      <th id=\"T_fd0f1_level0_row2\" class=\"row_heading level0 row2\" >2</th>\n",
       "      <td id=\"T_fd0f1_row2_col0\" class=\"data row2 col0\" >Surgical Robot</td>\n",
       "      <td id=\"T_fd0f1_row2_col1\" class=\"data row2 col1\" >ABB102</td>\n",
       "      <td id=\"T_fd0f1_row2_col2\" class=\"data row2 col2\" >Abbott</td>\n",
       "      <td id=\"T_fd0f1_row2_col3\" class=\"data row2 col3\" >Version 10</td>\n",
       "      <td id=\"T_fd0f1_row2_col4\" class=\"data row2 col4\" >2015-12-03</td>\n",
       "      <td id=\"T_fd0f1_row2_col5\" class=\"data row2 col5\" >Class I</td>\n",
       "      <td id=\"T_fd0f1_row2_col6\" class=\"data row2 col6\" >H394827</td>\n",
       "      <td id=\"T_fd0f1_row2_col7\" class=\"data row2 col7\" >Pediatric</td>\n",
       "      <td id=\"T_fd0f1_row2_col8\" class=\"data row2 col8\" >Intended for infection control therapy in intensive care unit environments for critically ill patients.</td>\n",
       "      <td id=\"T_fd0f1_row2_col9\" class=\"data row2 col9\" >Not recommended for use in burn patients or those with epilepsy.</td>\n",
       "      <td id=\"T_fd0f1_row2_col10\" class=\"data row2 col10\" >Hydrogen Peroxide Plasma</td>\n",
       "      <td id=\"T_fd0f1_row2_col11\" class=\"data row2 col11\" >14</td>\n",
       "      <td id=\"T_fd0f1_row2_col12\" class=\"data row2 col12\" >28</td>\n",
       "      <td id=\"T_fd0f1_row2_col13\" class=\"data row2 col13\" >8.000000</td>\n",
       "      <td id=\"T_fd0f1_row2_col14\" class=\"data row2 col14\" >10.610000</td>\n",
       "      <td id=\"T_fd0f1_row2_col15\" class=\"data row2 col15\" >39.000000</td>\n",
       "    </tr>\n",
       "  </tbody>\n",
       "</table>\n"
      ],
      "text/plain": [
       "<pandas.io.formats.style.Styler at 0x700d58febd90>"
      ]
     },
     "execution_count": 5,
     "metadata": {},
     "output_type": "execute_result"
    }
   ],
   "source": [
    "## Data 2: Leitura do Dataset de `Medical Device Manuals`\n",
    "df_medical_device = pd.read_csv(\"./data/MedDeviceManuals/medical_device_manuals_dataset.csv\")\n",
    "\n",
    "print(f\"O shape do meu dataset é: {df_medical_device.shape}\")\n",
    "\n",
    "## Data tem 2694 linhas, então vamos amostrar 500 linhas para experimentação\n",
    "#df_medical_device = df_medical_device.sample(500, random_state=0).reset_index(drop=True)\n",
    "df_medical_device = df_medical_device.head(20).reset_index(drop=True)\n",
    "\n",
    "print(f\"O shape, agora, do meu dataset é: {df_medical_device.shape}\")\n",
    "df_medical_device.head(3).style"
   ]
  },
  {
   "cell_type": "code",
   "execution_count": 6,
   "id": "22d8d973",
   "metadata": {},
   "outputs": [
    {
     "data": {
      "text/html": [
       "<style type=\"text/css\">\n",
       "</style>\n",
       "<table id=\"T_d5d5f\">\n",
       "  <thead>\n",
       "    <tr>\n",
       "      <th class=\"blank level0\" >&nbsp;</th>\n",
       "      <th id=\"T_d5d5f_level0_col0\" class=\"col_heading level0 col0\" >Device_Name</th>\n",
       "      <th id=\"T_d5d5f_level0_col1\" class=\"col_heading level0 col1\" >Model_Number</th>\n",
       "      <th id=\"T_d5d5f_level0_col2\" class=\"col_heading level0 col2\" >Manufacturer</th>\n",
       "      <th id=\"T_d5d5f_level0_col3\" class=\"col_heading level0 col3\" >Manual_Version</th>\n",
       "      <th id=\"T_d5d5f_level0_col4\" class=\"col_heading level0 col4\" >Publication_Date</th>\n",
       "      <th id=\"T_d5d5f_level0_col5\" class=\"col_heading level0 col5\" >Device_Class</th>\n",
       "      <th id=\"T_d5d5f_level0_col6\" class=\"col_heading level0 col6\" >Regulatory_Approval_ID</th>\n",
       "      <th id=\"T_d5d5f_level0_col7\" class=\"col_heading level0 col7\" >Patient_Population</th>\n",
       "      <th id=\"T_d5d5f_level0_col8\" class=\"col_heading level0 col8\" >Indications_for_Use</th>\n",
       "      <th id=\"T_d5d5f_level0_col9\" class=\"col_heading level0 col9\" >Contraindications</th>\n",
       "      <th id=\"T_d5d5f_level0_col10\" class=\"col_heading level0 col10\" >Sterilization_Method</th>\n",
       "      <th id=\"T_d5d5f_level0_col11\" class=\"col_heading level0 col11\" >Number_of_Warnings</th>\n",
       "      <th id=\"T_d5d5f_level0_col12\" class=\"col_heading level0 col12\" >Number_of_Cautions</th>\n",
       "      <th id=\"T_d5d5f_level0_col13\" class=\"col_heading level0 col13\" >Device_Lifetime_Years</th>\n",
       "      <th id=\"T_d5d5f_level0_col14\" class=\"col_heading level0 col14\" >Device_Weight_kg</th>\n",
       "      <th id=\"T_d5d5f_level0_col15\" class=\"col_heading level0 col15\" >Max_Operating_Temperature_C</th>\n",
       "      <th id=\"T_d5d5f_level0_col16\" class=\"col_heading level0 col16\" >combined_text</th>\n",
       "    </tr>\n",
       "  </thead>\n",
       "  <tbody>\n",
       "    <tr>\n",
       "      <th id=\"T_d5d5f_level0_row0\" class=\"row_heading level0 row0\" >0</th>\n",
       "      <td id=\"T_d5d5f_row0_col0\" class=\"data row0 col0\" >Insulin Pump</td>\n",
       "      <td id=\"T_d5d5f_row0_col1\" class=\"data row0 col1\" >DAN246</td>\n",
       "      <td id=\"T_d5d5f_row0_col2\" class=\"data row0 col2\" >Danaher</td>\n",
       "      <td id=\"T_d5d5f_row0_col3\" class=\"data row0 col3\" >2023-05-C</td>\n",
       "      <td id=\"T_d5d5f_row0_col4\" class=\"data row0 col4\" >2022-01-27</td>\n",
       "      <td id=\"T_d5d5f_row0_col5\" class=\"data row0 col5\" >Class I</td>\n",
       "      <td id=\"T_d5d5f_row0_col6\" class=\"data row0 col6\" >NDA412861</td>\n",
       "      <td id=\"T_d5d5f_row0_col7\" class=\"data row0 col7\" >Adult and Pediatric</td>\n",
       "      <td id=\"T_d5d5f_row0_col8\" class=\"data row0 col8\" >Indicated for real-time heart rate assessment in emergency department triage protocols.</td>\n",
       "      <td id=\"T_d5d5f_row0_col9\" class=\"data row0 col9\" >Not recommended for use in radiation therapy patients or those with sepsis.</td>\n",
       "      <td id=\"T_d5d5f_row0_col10\" class=\"data row0 col10\" >nan</td>\n",
       "      <td id=\"T_d5d5f_row0_col11\" class=\"data row0 col11\" >11</td>\n",
       "      <td id=\"T_d5d5f_row0_col12\" class=\"data row0 col12\" >11</td>\n",
       "      <td id=\"T_d5d5f_row0_col13\" class=\"data row0 col13\" >5.000000</td>\n",
       "      <td id=\"T_d5d5f_row0_col14\" class=\"data row0 col14\" >7.850000</td>\n",
       "      <td id=\"T_d5d5f_row0_col15\" class=\"data row0 col15\" >12.000000</td>\n",
       "      <td id=\"T_d5d5f_row0_col16\" class=\"data row0 col16\" >Device Name: Insulin Pump. Model: DAN246. Manufacturer: Danaher. Indications: Indicated for real-time heart rate assessment in emergency department triage protocols.. Contraindications: Not recommended for use in radiation therapy patients or those with sepsis.</td>\n",
       "    </tr>\n",
       "    <tr>\n",
       "      <th id=\"T_d5d5f_level0_row1\" class=\"row_heading level0 row1\" >1</th>\n",
       "      <td id=\"T_d5d5f_row1_col0\" class=\"data row1 col0\" >Ventilator</td>\n",
       "      <td id=\"T_d5d5f_row1_col1\" class=\"data row1 col1\" >Model 4428</td>\n",
       "      <td id=\"T_d5d5f_row1_col2\" class=\"data row1 col2\" >Fresenius Medical Care</td>\n",
       "      <td id=\"T_d5d5f_row1_col3\" class=\"data row1 col3\" >v8.4</td>\n",
       "      <td id=\"T_d5d5f_row1_col4\" class=\"data row1 col4\" >2015-11-01</td>\n",
       "      <td id=\"T_d5d5f_row1_col5\" class=\"data row1 col5\" >Class II</td>\n",
       "      <td id=\"T_d5d5f_row1_col6\" class=\"data row1 col6\" >IDE380253</td>\n",
       "      <td id=\"T_d5d5f_row1_col7\" class=\"data row1 col7\" >Adult</td>\n",
       "      <td id=\"T_d5d5f_row1_col8\" class=\"data row1 col8\" >Intended for infection control evaluation in rehabilitation medicine for chronic conditions recovery.</td>\n",
       "      <td id=\"T_d5d5f_row1_col9\" class=\"data row1 col9\" >Not recommended in presence of pulmonary edema or at infected areas locations.</td>\n",
       "      <td id=\"T_d5d5f_row1_col10\" class=\"data row1 col10\" >Single-Use Sterile</td>\n",
       "      <td id=\"T_d5d5f_row1_col11\" class=\"data row1 col11\" >25</td>\n",
       "      <td id=\"T_d5d5f_row1_col12\" class=\"data row1 col12\" >13</td>\n",
       "      <td id=\"T_d5d5f_row1_col13\" class=\"data row1 col13\" >8.000000</td>\n",
       "      <td id=\"T_d5d5f_row1_col14\" class=\"data row1 col14\" >69.530000</td>\n",
       "      <td id=\"T_d5d5f_row1_col15\" class=\"data row1 col15\" >26.000000</td>\n",
       "      <td id=\"T_d5d5f_row1_col16\" class=\"data row1 col16\" >Device Name: Ventilator. Model: Model 4428. Manufacturer: Fresenius Medical Care. Indications: Intended for infection control evaluation in rehabilitation medicine for chronic conditions recovery.. Contraindications: Not recommended in presence of pulmonary edema or at infected areas locations.</td>\n",
       "    </tr>\n",
       "    <tr>\n",
       "      <th id=\"T_d5d5f_level0_row2\" class=\"row_heading level0 row2\" >2</th>\n",
       "      <td id=\"T_d5d5f_row2_col0\" class=\"data row2 col0\" >Surgical Robot</td>\n",
       "      <td id=\"T_d5d5f_row2_col1\" class=\"data row2 col1\" >ABB102</td>\n",
       "      <td id=\"T_d5d5f_row2_col2\" class=\"data row2 col2\" >Abbott</td>\n",
       "      <td id=\"T_d5d5f_row2_col3\" class=\"data row2 col3\" >Version 10</td>\n",
       "      <td id=\"T_d5d5f_row2_col4\" class=\"data row2 col4\" >2015-12-03</td>\n",
       "      <td id=\"T_d5d5f_row2_col5\" class=\"data row2 col5\" >Class I</td>\n",
       "      <td id=\"T_d5d5f_row2_col6\" class=\"data row2 col6\" >H394827</td>\n",
       "      <td id=\"T_d5d5f_row2_col7\" class=\"data row2 col7\" >Pediatric</td>\n",
       "      <td id=\"T_d5d5f_row2_col8\" class=\"data row2 col8\" >Intended for infection control therapy in intensive care unit environments for critically ill patients.</td>\n",
       "      <td id=\"T_d5d5f_row2_col9\" class=\"data row2 col9\" >Not recommended for use in burn patients or those with epilepsy.</td>\n",
       "      <td id=\"T_d5d5f_row2_col10\" class=\"data row2 col10\" >Hydrogen Peroxide Plasma</td>\n",
       "      <td id=\"T_d5d5f_row2_col11\" class=\"data row2 col11\" >14</td>\n",
       "      <td id=\"T_d5d5f_row2_col12\" class=\"data row2 col12\" >28</td>\n",
       "      <td id=\"T_d5d5f_row2_col13\" class=\"data row2 col13\" >8.000000</td>\n",
       "      <td id=\"T_d5d5f_row2_col14\" class=\"data row2 col14\" >10.610000</td>\n",
       "      <td id=\"T_d5d5f_row2_col15\" class=\"data row2 col15\" >39.000000</td>\n",
       "      <td id=\"T_d5d5f_row2_col16\" class=\"data row2 col16\" >Device Name: Surgical Robot. Model: ABB102. Manufacturer: Abbott. Indications: Intended for infection control therapy in intensive care unit environments for critically ill patients.. Contraindications: Not recommended for use in burn patients or those with epilepsy.</td>\n",
       "    </tr>\n",
       "  </tbody>\n",
       "</table>\n"
      ],
      "text/plain": [
       "<pandas.io.formats.style.Styler at 0x700d58fe82d0>"
      ]
     },
     "execution_count": 6,
     "metadata": {},
     "output_type": "execute_result"
    }
   ],
   "source": [
    "# Preparando o Dataframe para o VectorDB combinando o Texto:\n",
    "df_medical_device['combined_text'] = (\n",
    "    \"Device Name: \" + df_medical_device['Device_Name'].astype(str) + \". \" +\n",
    "    \"Model: \" + df_medical_device['Model_Number'].astype(str) + \". \" +\n",
    "    \"Manufacturer: \" + df_medical_device['Manufacturer'].astype(str) + \". \" +\n",
    "    \"Indications: \" + df_medical_device['Indications_for_Use'].astype(str) + \". \" +\n",
    "    \"Contraindications: \" + df_medical_device['Contraindications'].fillna('None').astype(str)\n",
    ")\n",
    "\n",
    "df_medical_device.head(3).style"
   ]
  },
  {
   "cell_type": "markdown",
   "id": "8e23d251",
   "metadata": {},
   "source": [
    "## <font color=\"gree\">Configurando o Vector Store (ChromaDB)</font>"
   ]
  },
  {
   "cell_type": "markdown",
   "id": "f1e87322",
   "metadata": {},
   "source": [
    "### <font color=\"yellow\">Criando o ``Cliente do Chroma DB``</font>"
   ]
  },
  {
   "cell_type": "code",
   "execution_count": 7,
   "id": "55fb034b",
   "metadata": {},
   "outputs": [],
   "source": [
    "import chromadb\n",
    "\n",
    "# Configurando o Chroma DB:\n",
    "client = chromadb.PersistentClient(path=\"./chroma_db_AgenteRAG\")"
   ]
  },
  {
   "cell_type": "markdown",
   "id": "78d7feee",
   "metadata": {},
   "source": [
    "### <font color=\"cyan\">Embeddings da OpenAI</font>"
   ]
  },
  {
   "cell_type": "code",
   "execution_count": 8,
   "id": "2ee748ab",
   "metadata": {},
   "outputs": [],
   "source": [
    "# ✅ Configurar chave API OpenAI:\n",
    "clientOpenAI = OpenAI(api_key=OPENAI_API_KEY)\n",
    "#openai.api_key = OPENAI_API_KEY\n",
    "\n",
    "# ✅ Função personalizada para gerar embeddings usando API OpenAI:\n",
    "def generate_embedding(text: str, model: str = \"text-embedding-3-small\") -> list:\n",
    "    \"\"\"\n",
    "    Gera um vetor de Embedding para um texto fornecido usando a API de Embeddings da OpenAI.\n",
    "    \"\"\"\n",
    "    response = clientOpenAI.embeddings.create(\n",
    "        input=text,\n",
    "        model=model\n",
    "    )\n",
    "    embedding_vector = response.data[0].embedding\n",
    "    return embedding_vector"
   ]
  },
  {
   "cell_type": "markdown",
   "id": "9c7bd279",
   "metadata": {},
   "source": [
    "### <font color=\"yellow\">Criando as Collections</font>"
   ]
  },
  {
   "cell_type": "markdown",
   "id": "6a18ce07",
   "metadata": {},
   "source": [
    "Nós vamos criar <font color=\"red\">duas collections</font>, uma para o ``Dataset de Q&A`` (**MedQuad**) e outra para o ``Dataset de manual de dispositivo médico`` (**MedDeviceManuals**)."
   ]
  },
  {
   "cell_type": "code",
   "execution_count": 10,
   "id": "92276b7b",
   "metadata": {},
   "outputs": [],
   "source": [
    "# Collection 1 for medical Q&A Dataset (MedQuad):\n",
    "collection1 = client.get_or_create_collection(name=\"medical_q_n_a\",\n",
    "                                              metadata={\"hnsw:space\": \"cosine\"}\n",
    "                                             )"
   ]
  },
  {
   "cell_type": "code",
   "execution_count": 11,
   "id": "83afb72f",
   "metadata": {},
   "outputs": [],
   "source": [
    "# Antes de adicionar os dados à collection, vamos gerar os embeddings para cada texto:\n",
    "df_qa['embedding'] = df_qa['combined_text'].apply(lambda x: generate_embedding(x))\n"
   ]
  },
  {
   "cell_type": "code",
   "execution_count": 12,
   "id": "2569cac7",
   "metadata": {},
   "outputs": [],
   "source": [
    "# Adicionando dados à collection\n",
    "# Aqui o Chroma DB usará embeddings padrão (sentence transformers):\n",
    "#collection1.add(\n",
    "#    documents=df_qa['combined_text'].tolist(),\n",
    "#    metadatas=df_qa.to_dict(orient=\"records\"),\n",
    "#    ids=df_qa.index.astype(str).tolist(),\n",
    "#)\n",
    "\n",
    "collection1.add(\n",
    "    documents=df_qa['combined_text'].tolist(),\n",
    "    metadatas=df_qa.drop(columns=['embedding']).to_dict(orient=\"records\"), #df_qa.to_dict(orient=\"records\"),\n",
    "    ids=df_qa.index.astype(str).tolist(),\n",
    "    embeddings=df_qa['embedding'].tolist()\n",
    ")"
   ]
  },
  {
   "cell_type": "code",
   "execution_count": 13,
   "id": "1d69fca1",
   "metadata": {},
   "outputs": [
    {
     "data": {
      "text/plain": [
       "{'ids': [['0', '2', '1']],\n",
       " 'embeddings': None,\n",
       " 'documents': [['Question: Who is at risk for Lymphocytic Choriomeningitis (LCM)? ?. Answer: LCMV infections can occur after exposure to fresh urine, droppings, saliva, or nesting materials from infected rodents.  Transmission may also occur when these materials are directly introduced into broken skin, the nose, the eyes, or the mouth, or presumably, via the bite of an infected rodent. Person-to-person transmission has not been reported, with the exception of vertical transmission from infected mother to fetus, and rarely, through organ transplantation.. Type: susceptibility. ',\n",
       "   'Question: Who is at risk for Lymphocytic Choriomeningitis (LCM)? ?. Answer: Individuals of all ages who come into contact with urine, feces, saliva, or blood of wild mice are potentially at risk for infection. Owners of pet mice or hamsters may be at risk for infection if these animals originate from colonies that were contaminated with LCMV, or if their animals are infected from other wild mice. Human fetuses are at risk of acquiring infection vertically from an infected mother. \\n                \\nLaboratory workers who work with the virus or handle infected animals are also at risk. However, this risk can be minimized by utilizing animals from sources that regularly test for the virus, wearing proper protective laboratory gear, and following appropriate safety precautions.. Type: susceptibility. ',\n",
       "   'Question: What are the symptoms of Lymphocytic Choriomeningitis (LCM) ?. Answer: LCMV is most commonly recognized as causing neurological disease, as its name implies, though infection without symptoms or mild febrile illnesses are more common clinical manifestations. \\n                \\nFor infected persons who do become ill, onset of symptoms usually occurs 8-13 days after exposure to the virus as part of a biphasic febrile illness. This initial phase, which may last as long as a week, typically begins with any or all of the following symptoms: fever, malaise, lack of appetite, muscle aches, headache, nausea, and vomiting. Other symptoms appearing less frequently include sore throat, cough, joint pain, chest pain, testicular pain, and parotid (salivary gland) pain. \\n                \\nFollowing a few days of recovery, a second phase of illness may occur. Symptoms may consist of meningitis (fever, headache, stiff neck, etc.), encephalitis (drowsiness, confusion, sensory disturbances, and/or motor abnormalities, such as paralysis), or meningoencephalitis (inflammation of both the brain and meninges). LCMV has also been known to cause acute hydrocephalus (increased fluid on the brain), which often requires surgical shunting to relieve increased intracranial pressure. In rare instances, infection results in myelitis (inflammation of the spinal cord) and presents with symptoms such as muscle weakness, paralysis, or changes in body sensation. An association between LCMV infection and myocarditis (inflammation of the heart muscles) has been suggested. \\n                \\nPrevious observations show that most patients who develop aseptic meningitis or encephalitis due to LCMV survive. No chronic infection has been described in humans, and after the acute phase of illness, the virus is cleared from the body. However, as in all infections of the central nervous system, particularly encephalitis, temporary or permanent neurological damage is possible. Nerve deafness and arthritis have been reported. \\n                \\nWomen who become infected with LCMV during pregnancy may pass the infection on to the fetus. Infections occurring during the first trimester may result in fetal death and pregnancy termination, while in the second and third trimesters, birth defects can develop. Infants infected In utero can have many serious and permanent birth defects, including vision problems, mental retardation, and hydrocephaly (water on the brain). Pregnant women may recall a flu-like illness during pregnancy, or may not recall any illness. \\n                \\nLCM is usually not fatal. In general, mortality is less than 1%.. Type: symptoms. ']],\n",
       " 'uris': None,\n",
       " 'included': ['metadatas', 'documents', 'distances'],\n",
       " 'data': None,\n",
       " 'metadatas': [[{'Question': 'Who is at risk for Lymphocytic Choriomeningitis (LCM)? ?',\n",
       "    'combined_text': 'Question: Who is at risk for Lymphocytic Choriomeningitis (LCM)? ?. Answer: LCMV infections can occur after exposure to fresh urine, droppings, saliva, or nesting materials from infected rodents.  Transmission may also occur when these materials are directly introduced into broken skin, the nose, the eyes, or the mouth, or presumably, via the bite of an infected rodent. Person-to-person transmission has not been reported, with the exception of vertical transmission from infected mother to fetus, and rarely, through organ transplantation.. Type: susceptibility. ',\n",
       "    'qtype': 'susceptibility',\n",
       "    'Answer': 'LCMV infections can occur after exposure to fresh urine, droppings, saliva, or nesting materials from infected rodents.  Transmission may also occur when these materials are directly introduced into broken skin, the nose, the eyes, or the mouth, or presumably, via the bite of an infected rodent. Person-to-person transmission has not been reported, with the exception of vertical transmission from infected mother to fetus, and rarely, through organ transplantation.'},\n",
       "   {'qtype': 'susceptibility',\n",
       "    'combined_text': 'Question: Who is at risk for Lymphocytic Choriomeningitis (LCM)? ?. Answer: Individuals of all ages who come into contact with urine, feces, saliva, or blood of wild mice are potentially at risk for infection. Owners of pet mice or hamsters may be at risk for infection if these animals originate from colonies that were contaminated with LCMV, or if their animals are infected from other wild mice. Human fetuses are at risk of acquiring infection vertically from an infected mother. \\n                \\nLaboratory workers who work with the virus or handle infected animals are also at risk. However, this risk can be minimized by utilizing animals from sources that regularly test for the virus, wearing proper protective laboratory gear, and following appropriate safety precautions.. Type: susceptibility. ',\n",
       "    'Question': 'Who is at risk for Lymphocytic Choriomeningitis (LCM)? ?',\n",
       "    'Answer': 'Individuals of all ages who come into contact with urine, feces, saliva, or blood of wild mice are potentially at risk for infection. Owners of pet mice or hamsters may be at risk for infection if these animals originate from colonies that were contaminated with LCMV, or if their animals are infected from other wild mice. Human fetuses are at risk of acquiring infection vertically from an infected mother. \\n                \\nLaboratory workers who work with the virus or handle infected animals are also at risk. However, this risk can be minimized by utilizing animals from sources that regularly test for the virus, wearing proper protective laboratory gear, and following appropriate safety precautions.'},\n",
       "   {'combined_text': 'Question: What are the symptoms of Lymphocytic Choriomeningitis (LCM) ?. Answer: LCMV is most commonly recognized as causing neurological disease, as its name implies, though infection without symptoms or mild febrile illnesses are more common clinical manifestations. \\n                \\nFor infected persons who do become ill, onset of symptoms usually occurs 8-13 days after exposure to the virus as part of a biphasic febrile illness. This initial phase, which may last as long as a week, typically begins with any or all of the following symptoms: fever, malaise, lack of appetite, muscle aches, headache, nausea, and vomiting. Other symptoms appearing less frequently include sore throat, cough, joint pain, chest pain, testicular pain, and parotid (salivary gland) pain. \\n                \\nFollowing a few days of recovery, a second phase of illness may occur. Symptoms may consist of meningitis (fever, headache, stiff neck, etc.), encephalitis (drowsiness, confusion, sensory disturbances, and/or motor abnormalities, such as paralysis), or meningoencephalitis (inflammation of both the brain and meninges). LCMV has also been known to cause acute hydrocephalus (increased fluid on the brain), which often requires surgical shunting to relieve increased intracranial pressure. In rare instances, infection results in myelitis (inflammation of the spinal cord) and presents with symptoms such as muscle weakness, paralysis, or changes in body sensation. An association between LCMV infection and myocarditis (inflammation of the heart muscles) has been suggested. \\n                \\nPrevious observations show that most patients who develop aseptic meningitis or encephalitis due to LCMV survive. No chronic infection has been described in humans, and after the acute phase of illness, the virus is cleared from the body. However, as in all infections of the central nervous system, particularly encephalitis, temporary or permanent neurological damage is possible. Nerve deafness and arthritis have been reported. \\n                \\nWomen who become infected with LCMV during pregnancy may pass the infection on to the fetus. Infections occurring during the first trimester may result in fetal death and pregnancy termination, while in the second and third trimesters, birth defects can develop. Infants infected In utero can have many serious and permanent birth defects, including vision problems, mental retardation, and hydrocephaly (water on the brain). Pregnant women may recall a flu-like illness during pregnancy, or may not recall any illness. \\n                \\nLCM is usually not fatal. In general, mortality is less than 1%.. Type: symptoms. ',\n",
       "    'Answer': 'LCMV is most commonly recognized as causing neurological disease, as its name implies, though infection without symptoms or mild febrile illnesses are more common clinical manifestations. \\n                \\nFor infected persons who do become ill, onset of symptoms usually occurs 8-13 days after exposure to the virus as part of a biphasic febrile illness. This initial phase, which may last as long as a week, typically begins with any or all of the following symptoms: fever, malaise, lack of appetite, muscle aches, headache, nausea, and vomiting. Other symptoms appearing less frequently include sore throat, cough, joint pain, chest pain, testicular pain, and parotid (salivary gland) pain. \\n                \\nFollowing a few days of recovery, a second phase of illness may occur. Symptoms may consist of meningitis (fever, headache, stiff neck, etc.), encephalitis (drowsiness, confusion, sensory disturbances, and/or motor abnormalities, such as paralysis), or meningoencephalitis (inflammation of both the brain and meninges). LCMV has also been known to cause acute hydrocephalus (increased fluid on the brain), which often requires surgical shunting to relieve increased intracranial pressure. In rare instances, infection results in myelitis (inflammation of the spinal cord) and presents with symptoms such as muscle weakness, paralysis, or changes in body sensation. An association between LCMV infection and myocarditis (inflammation of the heart muscles) has been suggested. \\n                \\nPrevious observations show that most patients who develop aseptic meningitis or encephalitis due to LCMV survive. No chronic infection has been described in humans, and after the acute phase of illness, the virus is cleared from the body. However, as in all infections of the central nervous system, particularly encephalitis, temporary or permanent neurological damage is possible. Nerve deafness and arthritis have been reported. \\n                \\nWomen who become infected with LCMV during pregnancy may pass the infection on to the fetus. Infections occurring during the first trimester may result in fetal death and pregnancy termination, while in the second and third trimesters, birth defects can develop. Infants infected In utero can have many serious and permanent birth defects, including vision problems, mental retardation, and hydrocephaly (water on the brain). Pregnant women may recall a flu-like illness during pregnancy, or may not recall any illness. \\n                \\nLCM is usually not fatal. In general, mortality is less than 1%.',\n",
       "    'qtype': 'symptoms',\n",
       "    'Question': 'What are the symptoms of Lymphocytic Choriomeningitis (LCM) ?'}]],\n",
       " 'distances': [[0.4233100414276123, 0.43859851360321045, 0.4740118384361267]]}"
      ]
     },
     "execution_count": 13,
     "metadata": {},
     "output_type": "execute_result"
    }
   ],
   "source": [
    "# Verificação rápida:\n",
    "#query = \"Quais são os tratamentos para a doença de Kawasaki?\"\n",
    "query = \"Quem está em risco de desenvolver coriomeningite linfocítica (LCM)?\"\n",
    "query_embedding = generate_embedding(query)\n",
    "\n",
    "results = collection1.query(\n",
    "    #query_texts=[query],\n",
    "    query_embeddings=[query_embedding],\n",
    "    n_results=3\n",
    ")\n",
    "\n",
    "results"
   ]
  },
  {
   "cell_type": "markdown",
   "id": "c35ba3cc",
   "metadata": {},
   "source": [
    "Escolhemos a resposta com menor distância, já que estamos usando a ``distância cosseno``:"
   ]
  },
  {
   "cell_type": "code",
   "execution_count": 14,
   "id": "e65d044a",
   "metadata": {},
   "outputs": [
    {
     "data": {
      "text/plain": [
       "'Question: Who is at risk for Lymphocytic Choriomeningitis (LCM)? ?. Answer: LCMV infections can occur after exposure to fresh urine, droppings, saliva, or nesting materials from infected rodents.  Transmission may also occur when these materials are directly introduced into broken skin, the nose, the eyes, or the mouth, or presumably, via the bite of an infected rodent. Person-to-person transmission has not been reported, with the exception of vertical transmission from infected mother to fetus, and rarely, through organ transplantation.. Type: susceptibility. '"
      ]
     },
     "execution_count": 14,
     "metadata": {},
     "output_type": "execute_result"
    }
   ],
   "source": [
    "result_menor_distancia = results[\"documents\"][0][0]\n",
    "result_menor_distancia\n"
   ]
  },
  {
   "cell_type": "code",
   "execution_count": 15,
   "id": "b0494ea3",
   "metadata": {},
   "outputs": [
    {
     "name": "stdout",
     "output_type": "stream",
     "text": [
      "📚 Collections disponíveis no ChromaDB:\n",
      "  • medical_q_n_a - 20 documentos - Metadata: {'hnsw:space': 'cosine'}\n",
      "  • medical_device_manual - 20 documentos - Metadata: {'hnsw:space': 'cosine'}\n",
      "\n",
      "📊 Total de collections: 2\n"
     ]
    }
   ],
   "source": [
    "# 🔍 Verificar quais collections existem no banco de dados\n",
    "print(\"📚 Collections disponíveis no ChromaDB:\")\n",
    "collections = client.list_collections()\n",
    "\n",
    "if collections:\n",
    "    for col in collections:\n",
    "        print(f\"  • {col.name} - {col.count()} documentos - Metadata: {col.metadata}\")\n",
    "else:\n",
    "    print(\"  Nenhuma collection encontrada!\")\n",
    "\n",
    "print(f\"\\n📊 Total de collections: {len(collections)}\")"
   ]
  },
  {
   "cell_type": "code",
   "execution_count": null,
   "id": "1e9b6153",
   "metadata": {},
   "outputs": [],
   "source": [
    "# ✅ Método 1: Deletar com try-except (forma segura)\n",
    "def delete_collection_safe(client, collection_name):\n",
    "    \"\"\"Deleta uma collection se ela existir, caso contrário apenas avisa.\"\"\"\n",
    "    try:\n",
    "        client.delete_collection(name=collection_name)\n",
    "        print(f\"✅ Collection '{collection_name}' deletada com sucesso!\")\n",
    "    except Exception as e:\n",
    "        print(f\"⚠️ Collection '{collection_name}' não existe ou não pode ser deletada.\")\n",
    "        print(f\"   Erro: {e}\")\n",
    "\n",
    "# Usar:\n",
    "delete_collection_safe(client, \"medical_device_manual\")\n",
    "\n",
    "\n",
    "# ✅ Método 2: Verificar antes de deletar\n",
    "def delete_collection_if_exists(client, collection_name):\n",
    "    \"\"\"Verifica se a collection existe antes de tentar deletar.\"\"\"\n",
    "    existing_collections = [col.name for col in client.list_collections()]\n",
    "    \n",
    "    if collection_name in existing_collections:\n",
    "        client.delete_collection(name=collection_name)\n",
    "        print(f\"✅ Collection '{collection_name}' deletada!\")\n",
    "    else:\n",
    "        print(f\"⚠️ Collection '{collection_name}' não existe!\")\n",
    "        print(f\"   Collections disponíveis: {existing_collections}\")\n",
    "\n",
    "# Usar:\n",
    "# delete_collection_if_exists(client, \"medical_device_manual\")\n"
   ]
  },
  {
   "cell_type": "code",
   "execution_count": 16,
   "id": "8178efa6",
   "metadata": {},
   "outputs": [
    {
     "name": "stdout",
     "output_type": "stream",
     "text": [
      "============================================================\n",
      "📚 COLLECTIONS NO CHROMADB:\n",
      "============================================================\n",
      "\n",
      "1. Nome: medical_q_n_a\n",
      "   Documentos: 20\n",
      "   Metadata: {'hnsw:space': 'cosine'}\n",
      "   IDs exemplo: ['0', '1', '2']\n",
      "\n",
      "2. Nome: medical_device_manual\n",
      "   Documentos: 20\n",
      "   Metadata: {'hnsw:space': 'cosine'}\n",
      "   IDs exemplo: ['0', '1', '2']\n",
      "\n",
      "============================================================\n",
      "Total: 2 collection(s)\n",
      "============================================================\n"
     ]
    }
   ],
   "source": [
    "# 📊 Listar todas as collections existentes no banco de dados\n",
    "print(\"=\" * 60)\n",
    "print(\"📚 COLLECTIONS NO CHROMADB:\")\n",
    "print(\"=\" * 60)\n",
    "\n",
    "collections = client.list_collections()\n",
    "\n",
    "if collections:\n",
    "    for i, col in enumerate(collections, 1):\n",
    "        print(f\"\\n{i}. Nome: {col.name}\")\n",
    "        print(f\"   Documentos: {col.count()}\")\n",
    "        print(f\"   Metadata: {col.metadata}\")\n",
    "        \n",
    "        # Mostrar alguns IDs de exemplo\n",
    "        peek = col.peek(limit=3)\n",
    "        print(f\"   IDs exemplo: {peek['ids'][:3]}\")\n",
    "else:\n",
    "    print(\"\\n⚠️ Nenhuma collection encontrada no banco de dados!\")\n",
    "\n",
    "print(f\"\\n{'=' * 60}\")\n",
    "print(f\"Total: {len(collections)} collection(s)\")\n",
    "print(\"=\" * 60)\n"
   ]
  },
  {
   "cell_type": "code",
   "execution_count": 17,
   "id": "9c38584d",
   "metadata": {},
   "outputs": [],
   "source": [
    "#client.delete_collection(name=\"medical_device_manual\")\n"
   ]
  },
  {
   "cell_type": "code",
   "execution_count": 18,
   "id": "5863e147",
   "metadata": {},
   "outputs": [],
   "source": [
    "collection2 = client.get_or_create_collection(\n",
    "    name=\"medical_device_manual\",\n",
    "metadata={\"hnsw:space\": \"cosine\"}\n",
    ")"
   ]
  },
  {
   "cell_type": "code",
   "execution_count": 19,
   "id": "b9b85d0c",
   "metadata": {},
   "outputs": [],
   "source": [
    "# Antes de adicionar os dados à collection2, vamos gerar os embeddings para cada texto:\n",
    "df_medical_device['embedding'] = df_medical_device['combined_text'].apply(lambda x: generate_embedding(x))"
   ]
  },
  {
   "cell_type": "code",
   "execution_count": 20,
   "id": "d2179e38",
   "metadata": {},
   "outputs": [],
   "source": [
    "# Adicionando dados à collection\n",
    "# Aqui o Chroma DB usará embeddings padrão (sentence transformers)\n",
    "collection2.add(\n",
    "    documents=df_medical_device['combined_text'].tolist(),\n",
    "    metadatas=df_medical_device.drop(columns=['embedding']).to_dict(orient=\"records\"), #df_medical_device.to_dict(orient=\"records\"),\n",
    "    ids=df_medical_device.index.astype(str).tolist(),\n",
    "    embeddings=df_medical_device['embedding'].tolist()\n",
    ")"
   ]
  },
  {
   "cell_type": "code",
   "execution_count": 21,
   "id": "ef8b62fe",
   "metadata": {},
   "outputs": [
    {
     "data": {
      "text/plain": [
       "{'ids': [['15', '0', '4', '10', '19']],\n",
       " 'embeddings': None,\n",
       " 'documents': [['Device Name: Blood Pressure Monitor. Model: X-4451. Manufacturer: Stryker. Indications: Used for intraoperative calibration monitoring during complex cardiac surgeries.. Contraindications: Avoid use if patient has sepsis or history of embolism.',\n",
       "   'Device Name: Insulin Pump. Model: DAN246. Manufacturer: Danaher. Indications: Indicated for real-time heart rate assessment in emergency department triage protocols.. Contraindications: Not recommended for use in radiation therapy patients or those with sepsis.',\n",
       "   'Device Name: Pulse Oximeter. Model: SYN478. Manufacturer: Synthes. Indications: Used for emergency joint replacement in acute neurological disorders situations requiring immediate care.. Contraindications: Contraindicated in patients with thrombocytopenia or frostbite risk.',\n",
       "   'Device Name: Wound Care System. Model: Model 1153. Manufacturer: Cook Medical. Indications: Indicated for real-time glucose levels assessment in emergency department triage protocols.. Contraindications: Avoid use in patients with heart valves or vascular stents. Not suitable for maintenance procedures.',\n",
       "   'Device Name: Defibrillator. Model: OLY224. Manufacturer: Olympus Corporation. Indications: Intended for life support evaluation in rehabilitation medicine for critical illness recovery.. Contraindications: Not recommended for patients with hepatic dysfunction or severe severe hypertension.']],\n",
       " 'uris': None,\n",
       " 'included': ['metadatas', 'documents', 'distances'],\n",
       " 'data': None,\n",
       " 'metadatas': [[{'Number_of_Warnings': 14,\n",
       "    'Contraindications': 'Avoid use if patient has sepsis or history of embolism.',\n",
       "    'Indications_for_Use': 'Used for intraoperative calibration monitoring during complex cardiac surgeries.',\n",
       "    'Device_Lifetime_Years': 9.0,\n",
       "    'Publication_Date': '2019-06-05',\n",
       "    'Device_Class': 'Class IIb',\n",
       "    'Manufacturer': 'Stryker',\n",
       "    'Manual_Version': '2022-11-F',\n",
       "    'Regulatory_Approval_ID': 'H436280',\n",
       "    'Device_Weight_kg': 4.36,\n",
       "    'Patient_Population': 'Pediatric (2-18)',\n",
       "    'Sterilization_Method': 'Autoclave',\n",
       "    'Device_Name': 'Blood Pressure Monitor',\n",
       "    'Model_Number': 'X-4451',\n",
       "    'Max_Operating_Temperature_C': 23.0,\n",
       "    'Number_of_Cautions': 11,\n",
       "    'combined_text': 'Device Name: Blood Pressure Monitor. Model: X-4451. Manufacturer: Stryker. Indications: Used for intraoperative calibration monitoring during complex cardiac surgeries.. Contraindications: Avoid use if patient has sepsis or history of embolism.'},\n",
       "   {'Contraindications': 'Not recommended for use in radiation therapy patients or those with sepsis.',\n",
       "    'Patient_Population': 'Adult and Pediatric',\n",
       "    'Model_Number': 'DAN246',\n",
       "    'Manufacturer': 'Danaher',\n",
       "    'Regulatory_Approval_ID': 'NDA412861',\n",
       "    'Device_Class': 'Class I',\n",
       "    'Number_of_Warnings': 11,\n",
       "    'Manual_Version': '2023-05-C',\n",
       "    'Device_Lifetime_Years': 5.0,\n",
       "    'Indications_for_Use': 'Indicated for real-time heart rate assessment in emergency department triage protocols.',\n",
       "    'Number_of_Cautions': 11,\n",
       "    'Publication_Date': '2022-01-27',\n",
       "    'combined_text': 'Device Name: Insulin Pump. Model: DAN246. Manufacturer: Danaher. Indications: Indicated for real-time heart rate assessment in emergency department triage protocols.. Contraindications: Not recommended for use in radiation therapy patients or those with sepsis.',\n",
       "    'Max_Operating_Temperature_C': 12.0,\n",
       "    'Device_Name': 'Insulin Pump',\n",
       "    'Device_Weight_kg': 7.85},\n",
       "   {'Sterilization_Method': 'Ethylene Oxide (EtO)',\n",
       "    'Regulatory_Approval_ID': 'PMDA-850639',\n",
       "    'Number_of_Cautions': 4,\n",
       "    'Device_Class': 'Class IIa',\n",
       "    'Model_Number': 'SYN478',\n",
       "    'Indications_for_Use': 'Used for emergency joint replacement in acute neurological disorders situations requiring immediate care.',\n",
       "    'Device_Weight_kg': 0.32,\n",
       "    'Patient_Population': 'All',\n",
       "    'Number_of_Warnings': 3,\n",
       "    'Publication_Date': '2016-08-28',\n",
       "    'Contraindications': 'Contraindicated in patients with thrombocytopenia or frostbite risk.',\n",
       "    'Max_Operating_Temperature_C': 35.0,\n",
       "    'Manual_Version': 'Rev. 10.9',\n",
       "    'Device_Lifetime_Years': 7.0,\n",
       "    'Device_Name': 'Pulse Oximeter',\n",
       "    'Manufacturer': 'Synthes',\n",
       "    'combined_text': 'Device Name: Pulse Oximeter. Model: SYN478. Manufacturer: Synthes. Indications: Used for emergency joint replacement in acute neurological disorders situations requiring immediate care.. Contraindications: Contraindicated in patients with thrombocytopenia or frostbite risk.'},\n",
       "   {'Number_of_Warnings': 6,\n",
       "    'Manufacturer': 'Cook Medical',\n",
       "    'Model_Number': 'Model 1153',\n",
       "    'Patient_Population': 'Pediatric (2-18)',\n",
       "    'Sterilization_Method': 'Autoclave',\n",
       "    'Contraindications': 'Avoid use in patients with heart valves or vascular stents. Not suitable for maintenance procedures.',\n",
       "    'Device_Class': 'Class IIa',\n",
       "    'Device_Lifetime_Years': 6.0,\n",
       "    'Max_Operating_Temperature_C': 40.0,\n",
       "    'Regulatory_Approval_ID': 'HC-871016',\n",
       "    'Indications_for_Use': 'Indicated for real-time glucose levels assessment in emergency department triage protocols.',\n",
       "    'Device_Weight_kg': 10.09,\n",
       "    'Number_of_Cautions': 6,\n",
       "    'Device_Name': 'Wound Care System',\n",
       "    'Publication_Date': '2021-08-24',\n",
       "    'combined_text': 'Device Name: Wound Care System. Model: Model 1153. Manufacturer: Cook Medical. Indications: Indicated for real-time glucose levels assessment in emergency department triage protocols.. Contraindications: Avoid use in patients with heart valves or vascular stents. Not suitable for maintenance procedures.',\n",
       "    'Manual_Version': 'v15.0'},\n",
       "   {'Device_Class': 'Class I',\n",
       "    'Regulatory_Approval_ID': 'H199730',\n",
       "    'Indications_for_Use': 'Intended for life support evaluation in rehabilitation medicine for critical illness recovery.',\n",
       "    'Device_Name': 'Defibrillator',\n",
       "    'Device_Weight_kg': 9.22,\n",
       "    'Number_of_Cautions': 24,\n",
       "    'Publication_Date': '2022-06-30',\n",
       "    'Sterilization_Method': 'Autoclave',\n",
       "    'Model_Number': 'OLY224',\n",
       "    'combined_text': 'Device Name: Defibrillator. Model: OLY224. Manufacturer: Olympus Corporation. Indications: Intended for life support evaluation in rehabilitation medicine for critical illness recovery.. Contraindications: Not recommended for patients with hepatic dysfunction or severe severe hypertension.',\n",
       "    'Number_of_Warnings': 17,\n",
       "    'Manual_Version': 'Rev. 3.3',\n",
       "    'Manufacturer': 'Olympus Corporation',\n",
       "    'Patient_Population': 'Infant (0-2)',\n",
       "    'Max_Operating_Temperature_C': 32.0,\n",
       "    'Device_Lifetime_Years': 4.0,\n",
       "    'Contraindications': 'Not recommended for patients with hepatic dysfunction or severe severe hypertension.'}]],\n",
       " 'distances': [[0.5991083979606628,\n",
       "   0.6294198632240295,\n",
       "   0.6309095025062561,\n",
       "   0.6484322547912598,\n",
       "   0.6525830030441284]]}"
      ]
     },
     "execution_count": 21,
     "metadata": {},
     "output_type": "execute_result"
    }
   ],
   "source": [
    "# Verificação rápida:\n",
    "query = \"Que dispositvos são ideais para medir a frequência cardíaca?\" #\"Quais dispositivos são adequados para pacientes neonatais?\"\n",
    "\n",
    "query_embedding = generate_embedding(query)\n",
    "\n",
    "results = collection2.query(\n",
    "    #query_texts=[query],\n",
    "    query_embeddings=[query_embedding],\n",
    "    n_results=5\n",
    ")\n",
    "\n",
    "results"
   ]
  },
  {
   "cell_type": "markdown",
   "id": "be9d495e",
   "metadata": {},
   "source": [
    "Escolhemos a resposta com menor distância, já que estamos usando a ``distância cosseno``:\n"
   ]
  },
  {
   "cell_type": "code",
   "execution_count": 22,
   "id": "a92855cf",
   "metadata": {},
   "outputs": [
    {
     "data": {
      "text/plain": [
       "'Device Name: Blood Pressure Monitor. Model: X-4451. Manufacturer: Stryker. Indications: Used for intraoperative calibration monitoring during complex cardiac surgeries.. Contraindications: Avoid use if patient has sepsis or history of embolism.'"
      ]
     },
     "execution_count": 22,
     "metadata": {},
     "output_type": "execute_result"
    }
   ],
   "source": [
    "result_menor_distancia2 = results[\"documents\"][0][0]\n",
    "result_menor_distancia2"
   ]
  },
  {
   "cell_type": "markdown",
   "id": "4b6f8591",
   "metadata": {},
   "source": [
    "## <font color=\"gree\">Configurando a API de Pesquisa na Web</font>"
   ]
  },
  {
   "cell_type": "code",
   "execution_count": 23,
   "metadata": {},
   "outputs": [
    {
     "data": {
      "text/plain": [
       "'Todas as vacinas aprovadas passaram por rigorosa avaliação técnica e continuam eficazes na prevenção de casos graves e hospitalizações. A ... Quatro vacinas contra a doença já receberam autorização da Agência Nacional de Vigilância Sanitária (Anvisa) para uso no Brasil: CoronaVac, vacina do Butantan ... As três vacinas em uso no Brasil são: Pfizer adulto e pediátrica (vacina mRNA); Moderna (vacina mRNA); Covovax (vacina recombinante). A vacina Covid-19 desde 2024 passou a fazer parte do Calendário Nacional de. Vacinação das crianças de 6 meses, idosos com 60 anos ou mais de ... Missing: usadas | Show results with:usadas. As vacinas covid-19 da Moderna (Spikevax®) e da Pfizer (Comirnaty®) são vacinas inativadas compostas por RNA mensageiro (RNAm) modificado, ... Essas vacinas incluem tanto as presentes no calendário nacional de vacinação quanto as indicadas para grupos em condições clínicas especiais, como pessoas com ... Missing: usadas | Show results with:usadas. Vacina covid-19-RNAm, Moderna (Spikevax), Ômicron XBB 1.5: A vacina contém RNA mensageiro (RNAm) de cadeia simples, que codifica a proteína ... Missing: usadas | Show results with:usadas. De acordo com a agência, o Brasil conta atualmente com três vacinas monovalentes aprovadas para a prevenção da covid-19, mas apenas a Spikevax e ... Vacinação contra a COVID-19 – 2025 ; Idosos (60 anos ou mais) Pessoas imunocomprometidas (quadro 1), Uma dose de reforço a cada 6 meses ; Gestantes, Uma dose da ... Missing: usadas | Show results with:usadas. O Calendário Nacional de Vacinação de 2025 mantém o compromisso de proteção integral para todos os grupos populacionais. ... Você sabia que o ITpS ...'"
      ]
     },
     "execution_count": 23,
     "metadata": {},
     "output_type": "execute_result"
    }
   ],
   "source": [
    "search = GoogleSerperAPIWrapper()\n",
    "\n",
    "# Testando a API de pesquisa do Google:\n",
    "search.run(query=\"Quais são as vacinas de COVID-19 usadas no Brasil e no 2025?\")\n"
   ]
  },
  {
   "cell_type": "markdown",
   "id": "2925ab0b",
   "metadata": {},
   "source": [
    "## <font color=\"gree\">Configurando o Client da Open AI</font>"
   ]
  },
  {
   "cell_type": "code",
   "execution_count": 24,
   "metadata": {},
   "outputs": [
    {
     "data": {
      "text/plain": [
       "'A teoria da relatividade diz que as leis da física valem para todos os movimentos e que tempo, espaço e energia se curvam com velocidade e gravidade em situações extremas.'"
      ]
     },
     "execution_count": 24,
     "metadata": {},
     "output_type": "execute_result"
    }
   ],
   "source": [
    "def get_llm_response(prompt: str) -> str:\n",
    "    \"\"\"Função para obter resposta do LLM\"\"\"\n",
    "    client_llm = OpenAI(api_key=OPENAI_API_KEY)\n",
    "    response = client_llm.chat.completions.create(\n",
    "        model=\"gpt-5-nano\",\n",
    "        messages=[{\"role\": \"user\", \"content\": prompt}]\n",
    "    )\n",
    "    return response.choices[0].message.content\n",
    "\n",
    "\n",
    "# Testando a resposta do LLM:\n",
    "prompt = \"Explique a teoria da relatividade em termos simples em 30 palavras\"\n",
    "response = get_llm_response(prompt)\n",
    "\n",
    "response"
   ]
  },
  {
   "cell_type": "markdown",
   "id": "9e202543",
   "metadata": {},
   "source": [
    "# <font color=\"yellow\">``Parte A:`` RAG Tradicional</font>"
   ]
  },
  {
   "cell_type": "code",
   "execution_count": 25,
   "id": "e7b8b4d5",
   "metadata": {},
   "outputs": [
    {
     "data": {
      "image/png": "[encoded data removed]",
      "text/plain": [
       "<IPython.core.display.Image object>"
      ]
     },
     "metadata": {},
     "output_type": "display_data"
    }
   ],
   "source": [
    "from typing import Literal\n",
    "from langgraph.graph import StateGraph, START, END\n",
    "from typing_extensions import TypedDict\n",
    "from IPython.display import Image, display\n",
    "\n",
    "# === Define workflow node functions ===\n",
    "def retrieve_context(state):\n",
    "    \"\"\"Retrieve top documents from ChromaDB based on query.\"\"\"\n",
    "    print(\"---RETRIEVING CONTEXT---\")\n",
    "    query = state[\"query\"] # last user message\n",
    "    query_embedding = generate_embedding(query)\n",
    "    results = collection1.query(\n",
    "        #query_texts=[query],\n",
    "        query_embeddings=[query_embedding],\n",
    "        n_results=3\n",
    "        )\n",
    "    context = \"\\n\".join(results[\"documents\"][0])\n",
    "\n",
    "    #state[\"query\"] = query\n",
    "    state[\"context\"] = context\n",
    "    print(context)\n",
    "    # Save context in the state for later nodes\n",
    "    return state\n",
    "\n",
    "def build_prompt(state):\n",
    "    \"\"\"Construct the RAG-style prompt.\"\"\"\n",
    "    print(\"---AUGMENT (BUILDING PROMPT)---\")\n",
    "    query = state[\"query\"]\n",
    "    context = state[\"context\"]\n",
    "\n",
    "    prompt = f\"\"\"\n",
    "            Responda a seguinte pergunta usando, APENAS, o contexto fornecido abaixo.\n",
    "            Sempre responda em português brasileiro (pt-br).\n",
    "            Não use outras fontes além do contexto fornecido.\n",
    "            Se o usuário perguntar sobre outro assunto (fora do contexto fornecido),\n",
    "            responda: \"A sua pergunta está fora do contexto que foi fornecido para mim.\"\n",
    "\n",
    "            Contexto:\n",
    "            {context}\n",
    "\n",
    "            Pergunta: {query}\n",
    "\n",
    "            Por favor, limite sua resposta em 50 palavras.\n",
    "            \"\"\"\n",
    "    \n",
    "    state[\"prompt\"] = prompt\n",
    "    print(prompt)\n",
    "    return state\n",
    "\n",
    "def call_llm(state):\n",
    "    \"\"\"Chama a função do LLM existente.\"\"\"\n",
    "    print(\"---GENERATE (CALLING LLM)---\")\n",
    "    prompt = state[\"prompt\"]\n",
    "    answer = get_llm_response(prompt)\n",
    "    state[\"response\"] = answer\n",
    "    return state\n",
    "\n",
    "# === Build the workflow ===\n",
    "\n",
    "## Define o estado da estrutura:\n",
    "class GraphState(TypedDict):\n",
    "    query : str\n",
    "    prompt : str\n",
    "    context : List[str]\n",
    "    response : str\n",
    "\n",
    "    \n",
    "workflow = StateGraph(GraphState)\n",
    "\n",
    "# Add nodes\n",
    "workflow.add_node(\"Retriever\", retrieve_context)\n",
    "workflow.add_node(\"Augment\", build_prompt)\n",
    "workflow.add_node(\"Generate\", call_llm)\n",
    "\n",
    "# Define edges\n",
    "workflow.add_edge(START, \"Retriever\")\n",
    "workflow.add_edge(\"Retriever\", \"Augment\")\n",
    "workflow.add_edge(\"Augment\", \"Generate\")\n",
    "workflow.add_edge(\"Generate\", END)\n",
    "\n",
    "# Compile agent\n",
    "rag_agent = workflow.compile()\n",
    "\n",
    "# === Run it ===\n",
    "display(Image(rag_agent.get_graph().draw_mermaid_png()))\n"
   ]
  },
  {
   "cell_type": "code",
   "execution_count": 26,
   "metadata": {},
   "outputs": [
    {
     "name": "stdout",
     "output_type": "stream",
     "text": [
      "---RETRIEVING CONTEXT---\n",
      "Question: Who is at risk for Lymphocytic Choriomeningitis (LCM)? ?. Answer: LCMV infections can occur after exposure to fresh urine, droppings, saliva, or nesting materials from infected rodents.  Transmission may also occur when these materials are directly introduced into broken skin, the nose, the eyes, or the mouth, or presumably, via the bite of an infected rodent. Person-to-person transmission has not been reported, with the exception of vertical transmission from infected mother to fetus, and rarely, through organ transplantation.. Type: susceptibility. \n",
      "Question: What are the treatments for Lymphocytic Choriomeningitis (LCM) ?. Answer: Aseptic meningitis, encephalitis, or meningoencephalitis requires hospitalization and supportive treatment based on severity. Anti-inflammatory drugs, such as corticosteroids, may be considered under specific circumstances. Although studies have shown that ribavirin, a drug used to treat several other viral diseases, is effective against LCMV in vitro, there is no established evidence to support its routine use for treatment of LCM in humans.. Type: treatment. \n",
      "Question: What are the symptoms of Lymphocytic Choriomeningitis (LCM) ?. Answer: LCMV is most commonly recognized as causing neurological disease, as its name implies, though infection without symptoms or mild febrile illnesses are more common clinical manifestations. \n",
      "                \n",
      "For infected persons who do become ill, onset of symptoms usually occurs 8-13 days after exposure to the virus as part of a biphasic febrile illness. This initial phase, which may last as long as a week, typically begins with any or all of the following symptoms: fever, malaise, lack of appetite, muscle aches, headache, nausea, and vomiting. Other symptoms appearing less frequently include sore throat, cough, joint pain, chest pain, testicular pain, and parotid (salivary gland) pain. \n",
      "                \n",
      "Following a few days of recovery, a second phase of illness may occur. Symptoms may consist of meningitis (fever, headache, stiff neck, etc.), encephalitis (drowsiness, confusion, sensory disturbances, and/or motor abnormalities, such as paralysis), or meningoencephalitis (inflammation of both the brain and meninges). LCMV has also been known to cause acute hydrocephalus (increased fluid on the brain), which often requires surgical shunting to relieve increased intracranial pressure. In rare instances, infection results in myelitis (inflammation of the spinal cord) and presents with symptoms such as muscle weakness, paralysis, or changes in body sensation. An association between LCMV infection and myocarditis (inflammation of the heart muscles) has been suggested. \n",
      "                \n",
      "Previous observations show that most patients who develop aseptic meningitis or encephalitis due to LCMV survive. No chronic infection has been described in humans, and after the acute phase of illness, the virus is cleared from the body. However, as in all infections of the central nervous system, particularly encephalitis, temporary or permanent neurological damage is possible. Nerve deafness and arthritis have been reported. \n",
      "                \n",
      "Women who become infected with LCMV during pregnancy may pass the infection on to the fetus. Infections occurring during the first trimester may result in fetal death and pregnancy termination, while in the second and third trimesters, birth defects can develop. Infants infected In utero can have many serious and permanent birth defects, including vision problems, mental retardation, and hydrocephaly (water on the brain). Pregnant women may recall a flu-like illness during pregnancy, or may not recall any illness. \n",
      "                \n",
      "LCM is usually not fatal. In general, mortality is less than 1%.. Type: symptoms. \n",
      "'Finished running: Retriever:'\n",
      "---AUGMENT (BUILDING PROMPT)---\n",
      "\n",
      "            Responda a seguinte pergunta usando, APENAS, o contexto fornecido abaixo.\n",
      "            Sempre responda em português brasileiro (pt-br).\n",
      "            Não use outras fontes além do contexto fornecido.\n",
      "            Se o usuário perguntar sobre outro assunto (fora do contexto fornecido),\n",
      "            responda: \"A sua pergunta está fora do contexto que foi fornecido para mim.\"\n",
      "\n",
      "            Contexto:\n",
      "            Question: Who is at risk for Lymphocytic Choriomeningitis (LCM)? ?. Answer: LCMV infections can occur after exposure to fresh urine, droppings, saliva, or nesting materials from infected rodents.  Transmission may also occur when these materials are directly introduced into broken skin, the nose, the eyes, or the mouth, or presumably, via the bite of an infected rodent. Person-to-person transmission has not been reported, with the exception of vertical transmission from infected mother to fetus, and rarely, through organ transplantation.. Type: susceptibility. \n",
      "Question: What are the treatments for Lymphocytic Choriomeningitis (LCM) ?. Answer: Aseptic meningitis, encephalitis, or meningoencephalitis requires hospitalization and supportive treatment based on severity. Anti-inflammatory drugs, such as corticosteroids, may be considered under specific circumstances. Although studies have shown that ribavirin, a drug used to treat several other viral diseases, is effective against LCMV in vitro, there is no established evidence to support its routine use for treatment of LCM in humans.. Type: treatment. \n",
      "Question: What are the symptoms of Lymphocytic Choriomeningitis (LCM) ?. Answer: LCMV is most commonly recognized as causing neurological disease, as its name implies, though infection without symptoms or mild febrile illnesses are more common clinical manifestations. \n",
      "                \n",
      "For infected persons who do become ill, onset of symptoms usually occurs 8-13 days after exposure to the virus as part of a biphasic febrile illness. This initial phase, which may last as long as a week, typically begins with any or all of the following symptoms: fever, malaise, lack of appetite, muscle aches, headache, nausea, and vomiting. Other symptoms appearing less frequently include sore throat, cough, joint pain, chest pain, testicular pain, and parotid (salivary gland) pain. \n",
      "                \n",
      "Following a few days of recovery, a second phase of illness may occur. Symptoms may consist of meningitis (fever, headache, stiff neck, etc.), encephalitis (drowsiness, confusion, sensory disturbances, and/or motor abnormalities, such as paralysis), or meningoencephalitis (inflammation of both the brain and meninges). LCMV has also been known to cause acute hydrocephalus (increased fluid on the brain), which often requires surgical shunting to relieve increased intracranial pressure. In rare instances, infection results in myelitis (inflammation of the spinal cord) and presents with symptoms such as muscle weakness, paralysis, or changes in body sensation. An association between LCMV infection and myocarditis (inflammation of the heart muscles) has been suggested. \n",
      "                \n",
      "Previous observations show that most patients who develop aseptic meningitis or encephalitis due to LCMV survive. No chronic infection has been described in humans, and after the acute phase of illness, the virus is cleared from the body. However, as in all infections of the central nervous system, particularly encephalitis, temporary or permanent neurological damage is possible. Nerve deafness and arthritis have been reported. \n",
      "                \n",
      "Women who become infected with LCMV during pregnancy may pass the infection on to the fetus. Infections occurring during the first trimester may result in fetal death and pregnancy termination, while in the second and third trimesters, birth defects can develop. Infants infected In utero can have many serious and permanent birth defects, including vision problems, mental retardation, and hydrocephaly (water on the brain). Pregnant women may recall a flu-like illness during pregnancy, or may not recall any illness. \n",
      "                \n",
      "LCM is usually not fatal. In general, mortality is less than 1%.. Type: symptoms. \n",
      "\n",
      "            Pergunta: Que pessoas podem desenvolver a doença coriomeningite linfocítica (LCM)?\n",
      "\n",
      "            Por favor, limite sua resposta em 50 palavras.\n",
      "            \n",
      "'Finished running: Augment:'\n",
      "---GENERATE (CALLING LLM)---\n",
      "'Finished running: Generate:'\n"
     ]
    }
   ],
   "source": [
    "from pprint import pprint\n",
    "\n",
    "input_state = {\"query\": \"Que pessoas podem desenvolver a doença coriomeningite linfocítica (LCM)?\" #\"Quais são os tratamentos para a doença de Kawasaki?\"\n",
    "              }\n",
    "\n",
    "\n",
    "for step in rag_agent.stream(input_state):\n",
    "    for key, value in step.items():\n",
    "        pprint(f\"Finished running: {key}:\")\n"
   ]
  },
  {
   "cell_type": "code",
   "execution_count": 27,
   "id": "707ebbbc",
   "metadata": {},
   "outputs": [
    {
     "name": "stdout",
     "output_type": "stream",
     "text": [
      "('As pessoas em risco são aquelas expostas a urina fresca, fezes, saliva ou '\n",
      " 'materiais de nidificação de roedores infectados. A transmissão pode ocorrer '\n",
      " 'quando esses materiais entram na pele ferida, no nariz, nos olhos ou na '\n",
      " 'boca, ou, presumivelmente, por mordida de roedor. Transmissão '\n",
      " 'pessoa-a-pessoa é rara (vertical, transplante).')\n"
     ]
    }
   ],
   "source": [
    "pprint(value[\"response\"])"
   ]
  },
  {
   "cell_type": "code",
   "execution_count": 29,
   "id": "0aba9b40",
   "metadata": {},
   "outputs": [
    {
     "name": "stdout",
     "output_type": "stream",
     "text": [
      "---RETRIEVING CONTEXT---\n",
      "Question: What is (are) Parasites - Cysticercosis ?. Answer: Cysticercosis is an infection caused by the larvae of the parasite Taenia solium.  This infection occurs after a person swallows tapeworm eggs. The larvae get into tissues such as muscle and brain, and form cysts there (these are called cysticerci). When cysts are found in the brain, the condition is called neurocysticercosis.. Type: information. \n",
      "Question: Who is at risk for Parasites - Cysticercosis? ?. Answer: Cysticercosis is an infection caused by the larvae of the tapeworm, Taenia solium. A person with an adult tapeworm, which lives in the person’s gut, sheds eggs in the stool.  The infection with the adult tapeworm is called taeniasis.  A pig then eats the eggs in the stool.  The eggs develop into larvae inside the pig and form cysts (called cysticerci) in the pig's muscles or other tissues. The infection with the cysts is called cysticercosis. Humans who eat undercooked or raw infected pork swallow the cysts in the meat. The larvae then come out of their cysts in the human gut and develop into adult tapeworms, completing the cycle.\n",
      "    \n",
      "People get cysticercosis when they swallow eggs that are excreted in the stool of people with the adult tapeworm. This may happen when people\n",
      "    \n",
      "     - Drink water or eat food contaminated with tapeworm eggs\n",
      "     - Put contaminated fingers in their mouth\n",
      "    \n",
      "    \n",
      "Cysticercosis is not spread by eating undercooked meat. However, people get infected with tapeworms (taeniasis) by eating undercooked infected pork. People who have tapeworm infections can infect themselves with the eggs and develop cysticercosis (this is called autoinfection). They can also infect other people if they have poor hygiene and contaminate food or water that other people swallow. People who live with someone who has a tapeworm infection in their intestines have a much higher risk of getting cysticercosis than other people.\n",
      "    \n",
      "Human cysticercosis is found worldwide, especially in areas where pig cysticercosis is common. Both taeniasis and cysticercosis are most often found in rural areas of developing countries with poor sanitation, where pigs roam freely and eat human feces. Taeniasis and cysticercosis are rare among persons who live in countries where pigs are not raised and in countries where pigs do not have contact with human feces. Although uncommon, cysticercosis can occur in people who have never traveled outside of the United States if they are exposed to tapeworm eggs.\n",
      "    \n",
      "More on: Taeniasis. Type: susceptibility. \n",
      "Question: How to diagnose Parasites - Cysticercosis ?. Answer: If you think that you may have cysticercosis, please see your health care provider. Your health care provider will ask you about your symptoms, where you have travelled, and what kinds of foods you eat. The diagnosis of neurocysticercosis usually requires MRI or CT brain scans. Blood tests may be useful to help diagnose an infection, but they may not always be positive in light infections.\n",
      "  \n",
      "If you have been diagnosed with cysticercosis, you and your family members should be tested for intestinal tapeworm infection. See the taeniasis section for more information on intestinal tapeworm infections.  \n",
      "  \n",
      "More on: Taeniasis\n",
      "  \n",
      "More on: Resources for Health Professionals: Diagnosis. Type: exams and tests. \n",
      "'Finished running: Retriever:'\n",
      "---AUGMENT (BUILDING PROMPT)---\n",
      "\n",
      "            Responda a seguinte pergunta usando, APENAS, o contexto fornecido abaixo.\n",
      "            Sempre responda em português brasileiro (pt-br).\n",
      "            Não use outras fontes além do contexto fornecido.\n",
      "            Se o usuário perguntar sobre outro assunto (fora do contexto fornecido),\n",
      "            responda: \"A sua pergunta está fora do contexto que foi fornecido para mim.\"\n",
      "\n",
      "            Contexto:\n",
      "            Question: What is (are) Parasites - Cysticercosis ?. Answer: Cysticercosis is an infection caused by the larvae of the parasite Taenia solium.  This infection occurs after a person swallows tapeworm eggs. The larvae get into tissues such as muscle and brain, and form cysts there (these are called cysticerci). When cysts are found in the brain, the condition is called neurocysticercosis.. Type: information. \n",
      "Question: Who is at risk for Parasites - Cysticercosis? ?. Answer: Cysticercosis is an infection caused by the larvae of the tapeworm, Taenia solium. A person with an adult tapeworm, which lives in the person’s gut, sheds eggs in the stool.  The infection with the adult tapeworm is called taeniasis.  A pig then eats the eggs in the stool.  The eggs develop into larvae inside the pig and form cysts (called cysticerci) in the pig's muscles or other tissues. The infection with the cysts is called cysticercosis. Humans who eat undercooked or raw infected pork swallow the cysts in the meat. The larvae then come out of their cysts in the human gut and develop into adult tapeworms, completing the cycle.\n",
      "    \n",
      "People get cysticercosis when they swallow eggs that are excreted in the stool of people with the adult tapeworm. This may happen when people\n",
      "    \n",
      "     - Drink water or eat food contaminated with tapeworm eggs\n",
      "     - Put contaminated fingers in their mouth\n",
      "    \n",
      "    \n",
      "Cysticercosis is not spread by eating undercooked meat. However, people get infected with tapeworms (taeniasis) by eating undercooked infected pork. People who have tapeworm infections can infect themselves with the eggs and develop cysticercosis (this is called autoinfection). They can also infect other people if they have poor hygiene and contaminate food or water that other people swallow. People who live with someone who has a tapeworm infection in their intestines have a much higher risk of getting cysticercosis than other people.\n",
      "    \n",
      "Human cysticercosis is found worldwide, especially in areas where pig cysticercosis is common. Both taeniasis and cysticercosis are most often found in rural areas of developing countries with poor sanitation, where pigs roam freely and eat human feces. Taeniasis and cysticercosis are rare among persons who live in countries where pigs are not raised and in countries where pigs do not have contact with human feces. Although uncommon, cysticercosis can occur in people who have never traveled outside of the United States if they are exposed to tapeworm eggs.\n",
      "    \n",
      "More on: Taeniasis. Type: susceptibility. \n",
      "Question: How to diagnose Parasites - Cysticercosis ?. Answer: If you think that you may have cysticercosis, please see your health care provider. Your health care provider will ask you about your symptoms, where you have travelled, and what kinds of foods you eat. The diagnosis of neurocysticercosis usually requires MRI or CT brain scans. Blood tests may be useful to help diagnose an infection, but they may not always be positive in light infections.\n",
      "  \n",
      "If you have been diagnosed with cysticercosis, you and your family members should be tested for intestinal tapeworm infection. See the taeniasis section for more information on intestinal tapeworm infections.  \n",
      "  \n",
      "More on: Taeniasis\n",
      "  \n",
      "More on: Resources for Health Professionals: Diagnosis. Type: exams and tests. \n",
      "\n",
      "            Pergunta: Quem foi Pelé?\n",
      "\n",
      "            Por favor, limite sua resposta em 50 palavras.\n",
      "            \n",
      "'Finished running: Augment:'\n",
      "---GENERATE (CALLING LLM)---\n",
      "'Finished running: Generate:'\n",
      "'A sua pergunta está fora do contexto que foi fornecido para mim.'\n"
     ]
    }
   ],
   "source": [
    "from pprint import pprint\n",
    "\n",
    "input_state = {\"query\": \"Quem foi Pelé?\" #\"Quais são os tratamentos para a doença de Kawasaki?\"\n",
    "              }\n",
    "\n",
    "\n",
    "for step in rag_agent.stream(input_state):\n",
    "    for key, value in step.items():\n",
    "        pprint(f\"Finished running: {key}:\")\n",
    "\n",
    "\n",
    "\n",
    "pprint(value[\"response\"])"
   ]
  },
  {
   "cell_type": "markdown",
   "id": "e5e9bf2c",
   "metadata": {},
   "source": [
    "# <font color=\"yellow\">``Parte B:``Agente RAG</font>"
   ]
  },
  {
   "cell_type": "code",
   "execution_count": 33,
   "id": "3a5af603",
   "metadata": {},
   "outputs": [
    {
     "data": {
      "image/png": "[encoded data removed]",
      "text/plain": [
       "<IPython.core.display.Image object>"
      ]
     },
     "metadata": {},
     "output_type": "display_data"
    }
   ],
   "source": [
    "from langgraph.graph import StateGraph, START, END\n",
    "from typing_extensions import TypedDict\n",
    "from typing import List\n",
    "from IPython.display import Image, display\n",
    "\n",
    "\n",
    "# === Define workflow node functions ===\n",
    "def retrieve_context_q_n_a(state):\n",
    "    \"\"\"Retrieve top documents from ChromaDB Collection 1 (Medical Q&A Data) based on query.\"\"\"\n",
    "    print(\"---RETRIEVING CONTEXT---\")\n",
    "    query = state[\"query\"] # last user message\n",
    "    query_embedding = generate_embedding(query)\n",
    "    \n",
    "    results = collection1.query(\n",
    "        #query_texts=[query],\n",
    "        query_embeddings=[query_embedding],\n",
    "        n_results=3\n",
    "    )\n",
    "    context = \"\\n\".join(results[\"documents\"][0])\n",
    "    state[\"context\"] = context\n",
    "    state[\"source\"] = \"Medical Q&A Collection\"\n",
    "    print(context)\n",
    "    # Save context in the state for later nodes\n",
    "    return state\n",
    "\n",
    "# === Define workflow node functions ===\n",
    "def retrieve_context_medical_device(state):\n",
    "    \"\"\"Retrieve top documents from ChromaDB Collection 2 (Medical Device Manuals Data) based on query.\"\"\"\n",
    "    print(\"---RETRIEVING CONTEXT---\")\n",
    "    query = state[\"query\"] # last user message\n",
    "    query_embedding = generate_embedding(query)\n",
    "\n",
    "    results = collection2.query(\n",
    "        #query_texts=[query],\n",
    "        query_embeddings=[query_embedding],\n",
    "        n_results=3\n",
    "    )\n",
    "    context = \"\\n\".join(results[\"documents\"][0])\n",
    "    state[\"context\"] = context\n",
    "    state[\"source\"] = \"Medical Device Manual\"\n",
    "    print(context)\n",
    "    # Save context in the state for later nodes\n",
    "    return state\n",
    "\n",
    "def web_search(state):\n",
    "    \"\"\"Perform web search using Google Serper API.\"\"\"\n",
    "    print(\"---PERFORMING WEB SEARCH---\")\n",
    "    query = state[\"query\"]\n",
    "    search_results = search.run(query=query)\n",
    "    state[\"context\"] = search_results\n",
    "    state[\"source\"] = \"Web Search\"\n",
    "    print(search_results)\n",
    "    return state\n",
    "\n",
    "def router(state: GraphState) -> Literal[\n",
    "    \"Retrieve_QnA\", \"Retrieve_Device\", \"Web_Search\"\n",
    "]:\n",
    "    \"\"\"Agentic router: decides which retrieval method to use.\"\"\"\n",
    "    query = state[\"query\"]\n",
    "\n",
    "    # A lightweight decision LLM — you can replace this with GPT-4o-mini, etc.\n",
    "    decision_prompt = f\"\"\"\n",
    "    Você é um agente de roteamento. Baseado na consulta/pergunta do usuário, você \n",
    "    deverá decidir onde buscar informações.\n",
    "\n",
    "    Opções:\n",
    "    - Retrieve_QnA: se a consulta/pergunta é sobre conhecimento médico geral,\n",
    "      sintomas ou tratamentos.\n",
    "    - Retrieve_Device: se a consulta/pergunta é sobre dispositivos médicos,\n",
    "      manuais ou instruções.\n",
    "    - Web_Search: se a consulta/pergunta é sobre notícias recentes, marcas ou\n",
    "      dados externos.\n",
    "\n",
    "    Pergunta: \"{query}\"\n",
    "\n",
    "    Responda APENAS com uma das opções: Retrieve_QnA, Retrieve_Device, Web_Search\n",
    "    \"\"\"\n",
    "\n",
    "    router_decision = get_llm_response(decision_prompt).strip()\n",
    "    print(f\"---ROUTER DECISION: {router_decision}---\")\n",
    "\n",
    "    print(router_decision)\n",
    "\n",
    "    state[\"source\"] = router_decision\n",
    "    return state\n",
    "\n",
    "# Define a função de roteamento para o edge condicional\n",
    "def route_decision(state: GraphState) -> str:\n",
    "    return state[\"source\"]\n",
    "\n",
    "\n",
    "def build_prompt(state):\n",
    "    \"\"\"Construe o PROMPT no estilo RAG.\"\"\"\n",
    "    print(\"---AUGMENT (BUILDING GENERATIVE PROMPT)---\")\n",
    "    query = state[\"query\"]\n",
    "    context = state[\"context\"]\n",
    "\n",
    "    prompt = f\"\"\"\n",
    "            Responda a seguinte pergunta usando, APENAS, o contexto fornecido abaixo.\n",
    "            Sempre responda em português brasileiro (pt-br).\n",
    "\n",
    "            Contexto:\n",
    "            {context}\n",
    "            \n",
    "            Pergunta: {query}\n",
    "            Por favor, limite sua resposta em 50 palavras.\n",
    "            \"\"\"\n",
    "    \n",
    "    state[\"prompt\"] = prompt\n",
    "    print(prompt)\n",
    "    return state\n",
    "\n",
    "\n",
    "def call_llm(state):\n",
    "    \"\"\"Call your existing LLM function.\"\"\"\n",
    "    print(\"---GENERATE (CALLING LLM)---\")\n",
    "    prompt = state[\"prompt\"]\n",
    "    answer = get_llm_response(prompt)\n",
    "    state[\"response\"] = answer\n",
    "    return state\n",
    "\n",
    "\n",
    "def check_context_relevance(state):\n",
    "    \"\"\"Determine whether to retrieved context is relevant or not.\"\"\"\n",
    "    print(\"---CONTEXT RELEVANCE CHECKER---\")\n",
    "    query = state[\"query\"]\n",
    "    context = state[\"context\"]\n",
    "\n",
    "    relevance_prompt = f\"\"\"\n",
    "            Verifique se o contexto (delimitado por ####) fornecido é relevante\n",
    "            à consulta/pergunta do usuário.\n",
    "            \n",
    "            ####\n",
    "            Contexto:\n",
    "            {context}\n",
    "            ####\n",
    "            \n",
    "            Pergunta do usuário: {query}\n",
    "\n",
    "            Opções:\n",
    "            - Sim/Yes: se o contexto é relevante.\n",
    "            - Não/No: se o contexto não é relevante.\n",
    "\n",
    "            Responda APENAS com 'Sim' ou 'Não'.\n",
    "            \"\"\"\n",
    "    relevance_decision_value = get_llm_response(relevance_prompt).strip()\n",
    "\n",
    "    # Normalizar para Inglês:\n",
    "    if relevance_decision_value.lower() in [\"sim\", \"yes\", \"s\", \"y\"]:\n",
    "        relevance_decision_value = \"Yes\"\n",
    "    elif relevance_decision_value.lower() in [\"não\", \"nao\", \"no\", \"n\"]:\n",
    "        relevance_decision_value = \"No\"\n",
    "    else:\n",
    "        print(f\"Resposta inesperada: {relevance_decision_value}, assumindo 'Yes'\")\n",
    "        relevance_decision_value = \"Yes\"\n",
    "\n",
    "    print(f\"---RELEVANCE DECISION: {relevance_decision_value}---\")\n",
    "    state[\"is_relevant\"] = relevance_decision_value\n",
    "    return state\n",
    "\n",
    "# Define the check_context_relevance function for the conditional edge\n",
    "def relevance_decision(state: GraphState) -> str:\n",
    "    iteration_count = state.get(\"iteration_count\", 0)\n",
    "    iteration_count += 1\n",
    "    state[\"iteration_count\"] = iteration_count\n",
    "    ## Limiting to max 3 iterations\n",
    "    if iteration_count >= 3:\n",
    "        print(\"---MAX ITERATIONS REACHED, FORCING 'Sim'---\")\n",
    "        state[\"is_relevant\"] = \"Yes\"\n",
    "    return state[\"is_relevant\"]\n",
    "\n",
    "\n",
    "\n",
    "\n",
    "\n",
    "# === Build the workflow ===\n",
    "## Define the state structure\n",
    "\n",
    "class GraphState(TypedDict):\n",
    "    query: str\n",
    "    context: str\n",
    "    prompt: str\n",
    "    response: str\n",
    "    source: str  # Which retriever/tool was used\n",
    "    is_relevant: str\n",
    "    iteration_count: int\n",
    "\n",
    "    \n",
    "workflow = StateGraph(GraphState)\n",
    "\n",
    "# Add nodes\n",
    "workflow.add_node(\"Router\", router)\n",
    "workflow.add_node(\"Retrieve_QnA\", retrieve_context_q_n_a)\n",
    "workflow.add_node(\"Retrieve_Device\", retrieve_context_medical_device)\n",
    "workflow.add_node(\"Web_Search\", web_search)\n",
    "workflow.add_node(\"Relevance_Checker\", check_context_relevance)\n",
    "workflow.add_node(\"Augment\", build_prompt)\n",
    "workflow.add_node(\"Generate\", call_llm)\n",
    "\n",
    "# Define edges\n",
    "workflow.add_edge(START, \"Router\")\n",
    "workflow.add_conditional_edges(\n",
    "    \"Router\",\n",
    "    route_decision,  # this function decides the path dynamically\n",
    "    {\n",
    "        \"Retrieve_QnA\": \"Retrieve_QnA\",\n",
    "        \"Retrieve_Device\": \"Retrieve_Device\",\n",
    "        \"Web_Search\": \"Web_Search\",\n",
    "    }\n",
    ")\n",
    "workflow.add_edge(\"Retrieve_QnA\", \"Relevance_Checker\")\n",
    "workflow.add_edge(\"Retrieve_Device\", \"Relevance_Checker\")\n",
    "workflow.add_edge(\"Web_Search\", \"Relevance_Checker\")\n",
    "workflow.add_conditional_edges(\n",
    "    \"Relevance_Checker\",\n",
    "    relevance_decision,  # this function decides the path dynamically\n",
    "    {\n",
    "        \"Yes\": \"Augment\",\n",
    "        \"No\": \"Web_Search\",\n",
    "    }\n",
    ")\n",
    "workflow.add_edge(\"Augment\", \"Generate\")\n",
    "workflow.add_edge(\"Generate\", END)\n",
    "\n",
    "\n",
    "# Compile the dynamic RAG agent\n",
    "agentic_rag = workflow.compile()\n",
    "\n",
    "\n",
    "# ===================================\n",
    "# ===  Visualize Workflow (Optional) ===\n",
    "# ===================================\n",
    "\n",
    "\n",
    "# === Run it ===\n",
    "display(Image(agentic_rag.get_graph().draw_mermaid_png()))"
   ]
  },
  {
   "cell_type": "code",
   "execution_count": 34,
   "id": "be0b0b95",
   "metadata": {},
   "outputs": [
    {
     "name": "stdout",
     "output_type": "stream",
     "text": [
      "---ROUTER DECISION: Retrieve_QnA---\n",
      "Retrieve_QnA\n",
      "'Finished running: Router:'\n",
      "---RETRIEVING CONTEXT---\n",
      "Question: Who is at risk for Lymphocytic Choriomeningitis (LCM)? ?. Answer: LCMV infections can occur after exposure to fresh urine, droppings, saliva, or nesting materials from infected rodents.  Transmission may also occur when these materials are directly introduced into broken skin, the nose, the eyes, or the mouth, or presumably, via the bite of an infected rodent. Person-to-person transmission has not been reported, with the exception of vertical transmission from infected mother to fetus, and rarely, through organ transplantation.. Type: susceptibility. \n",
      "Question: What are the treatments for Lymphocytic Choriomeningitis (LCM) ?. Answer: Aseptic meningitis, encephalitis, or meningoencephalitis requires hospitalization and supportive treatment based on severity. Anti-inflammatory drugs, such as corticosteroids, may be considered under specific circumstances. Although studies have shown that ribavirin, a drug used to treat several other viral diseases, is effective against LCMV in vitro, there is no established evidence to support its routine use for treatment of LCM in humans.. Type: treatment. \n",
      "Question: What are the symptoms of Lymphocytic Choriomeningitis (LCM) ?. Answer: LCMV is most commonly recognized as causing neurological disease, as its name implies, though infection without symptoms or mild febrile illnesses are more common clinical manifestations. \n",
      "                \n",
      "For infected persons who do become ill, onset of symptoms usually occurs 8-13 days after exposure to the virus as part of a biphasic febrile illness. This initial phase, which may last as long as a week, typically begins with any or all of the following symptoms: fever, malaise, lack of appetite, muscle aches, headache, nausea, and vomiting. Other symptoms appearing less frequently include sore throat, cough, joint pain, chest pain, testicular pain, and parotid (salivary gland) pain. \n",
      "                \n",
      "Following a few days of recovery, a second phase of illness may occur. Symptoms may consist of meningitis (fever, headache, stiff neck, etc.), encephalitis (drowsiness, confusion, sensory disturbances, and/or motor abnormalities, such as paralysis), or meningoencephalitis (inflammation of both the brain and meninges). LCMV has also been known to cause acute hydrocephalus (increased fluid on the brain), which often requires surgical shunting to relieve increased intracranial pressure. In rare instances, infection results in myelitis (inflammation of the spinal cord) and presents with symptoms such as muscle weakness, paralysis, or changes in body sensation. An association between LCMV infection and myocarditis (inflammation of the heart muscles) has been suggested. \n",
      "                \n",
      "Previous observations show that most patients who develop aseptic meningitis or encephalitis due to LCMV survive. No chronic infection has been described in humans, and after the acute phase of illness, the virus is cleared from the body. However, as in all infections of the central nervous system, particularly encephalitis, temporary or permanent neurological damage is possible. Nerve deafness and arthritis have been reported. \n",
      "                \n",
      "Women who become infected with LCMV during pregnancy may pass the infection on to the fetus. Infections occurring during the first trimester may result in fetal death and pregnancy termination, while in the second and third trimesters, birth defects can develop. Infants infected In utero can have many serious and permanent birth defects, including vision problems, mental retardation, and hydrocephaly (water on the brain). Pregnant women may recall a flu-like illness during pregnancy, or may not recall any illness. \n",
      "                \n",
      "LCM is usually not fatal. In general, mortality is less than 1%.. Type: symptoms. \n",
      "'Finished running: Retrieve_QnA:'\n",
      "---CONTEXT RELEVANCE CHECKER---\n",
      "---RELEVANCE DECISION: Yes---\n",
      "'Finished running: Relevance_Checker:'\n",
      "---AUGMENT (BUILDING GENERATIVE PROMPT)---\n",
      "\n",
      "            Responda a seguinte pergunta usando, APENAS, o contexto fornecido abaixo.\n",
      "            Sempre responda em português brasileiro (pt-br).\n",
      "\n",
      "            Contexto:\n",
      "            Question: Who is at risk for Lymphocytic Choriomeningitis (LCM)? ?. Answer: LCMV infections can occur after exposure to fresh urine, droppings, saliva, or nesting materials from infected rodents.  Transmission may also occur when these materials are directly introduced into broken skin, the nose, the eyes, or the mouth, or presumably, via the bite of an infected rodent. Person-to-person transmission has not been reported, with the exception of vertical transmission from infected mother to fetus, and rarely, through organ transplantation.. Type: susceptibility. \n",
      "Question: What are the treatments for Lymphocytic Choriomeningitis (LCM) ?. Answer: Aseptic meningitis, encephalitis, or meningoencephalitis requires hospitalization and supportive treatment based on severity. Anti-inflammatory drugs, such as corticosteroids, may be considered under specific circumstances. Although studies have shown that ribavirin, a drug used to treat several other viral diseases, is effective against LCMV in vitro, there is no established evidence to support its routine use for treatment of LCM in humans.. Type: treatment. \n",
      "Question: What are the symptoms of Lymphocytic Choriomeningitis (LCM) ?. Answer: LCMV is most commonly recognized as causing neurological disease, as its name implies, though infection without symptoms or mild febrile illnesses are more common clinical manifestations. \n",
      "                \n",
      "For infected persons who do become ill, onset of symptoms usually occurs 8-13 days after exposure to the virus as part of a biphasic febrile illness. This initial phase, which may last as long as a week, typically begins with any or all of the following symptoms: fever, malaise, lack of appetite, muscle aches, headache, nausea, and vomiting. Other symptoms appearing less frequently include sore throat, cough, joint pain, chest pain, testicular pain, and parotid (salivary gland) pain. \n",
      "                \n",
      "Following a few days of recovery, a second phase of illness may occur. Symptoms may consist of meningitis (fever, headache, stiff neck, etc.), encephalitis (drowsiness, confusion, sensory disturbances, and/or motor abnormalities, such as paralysis), or meningoencephalitis (inflammation of both the brain and meninges). LCMV has also been known to cause acute hydrocephalus (increased fluid on the brain), which often requires surgical shunting to relieve increased intracranial pressure. In rare instances, infection results in myelitis (inflammation of the spinal cord) and presents with symptoms such as muscle weakness, paralysis, or changes in body sensation. An association between LCMV infection and myocarditis (inflammation of the heart muscles) has been suggested. \n",
      "                \n",
      "Previous observations show that most patients who develop aseptic meningitis or encephalitis due to LCMV survive. No chronic infection has been described in humans, and after the acute phase of illness, the virus is cleared from the body. However, as in all infections of the central nervous system, particularly encephalitis, temporary or permanent neurological damage is possible. Nerve deafness and arthritis have been reported. \n",
      "                \n",
      "Women who become infected with LCMV during pregnancy may pass the infection on to the fetus. Infections occurring during the first trimester may result in fetal death and pregnancy termination, while in the second and third trimesters, birth defects can develop. Infants infected In utero can have many serious and permanent birth defects, including vision problems, mental retardation, and hydrocephaly (water on the brain). Pregnant women may recall a flu-like illness during pregnancy, or may not recall any illness. \n",
      "                \n",
      "LCM is usually not fatal. In general, mortality is less than 1%.. Type: symptoms. \n",
      "\n",
      "            Pergunta: Que pessoas podem desenvolver a doença coriomeningite linfocítica (LCM)?\n",
      "            Por favor, limite sua resposta em 50 palavras.\n",
      "            \n",
      "'Finished running: Augment:'\n",
      "---GENERATE (CALLING LLM)---\n",
      "'Finished running: Generate:'\n"
     ]
    }
   ],
   "source": [
    "from pprint import pprint\n",
    "\n",
    "\n",
    "input_state = {\"query\":\"Que pessoas podem desenvolver a doença coriomeningite linfocítica (LCM)?\"  #\"Quais são os tratamentos para a doença de Kawasaki?\"\n",
    "              }\n",
    "\n",
    "for step in agentic_rag.stream(input_state):\n",
    "    for key, value in step.items():\n",
    "        pprint(f\"Finished running: {key}:\")\n"
   ]
  },
  {
   "cell_type": "code",
   "execution_count": 35,
   "id": "7fa3cda8",
   "metadata": {},
   "outputs": [
    {
     "name": "stdout",
     "output_type": "stream",
     "text": [
      "('Pessoas expostas a urina, fezes, saliva ou materiais de ninho de roedores '\n",
      " 'infectados. A transmissão entre pessoas não ocorre, exceto de mãe para feto '\n",
      " 'durante a gravidez e, raramente, por transplante de órgãos.')\n"
     ]
    }
   ],
   "source": [
    "pprint(value[\"response\"])"
   ]
  },
  {
   "cell_type": "code",
   "execution_count": 36,
   "id": "de6ec857",
   "metadata": {},
   "outputs": [
    {
     "name": "stdout",
     "output_type": "stream",
     "text": [
      "---ROUTER DECISION: Retrieve_Device---\n",
      "Retrieve_Device\n",
      "'Finished running: Router:'\n",
      "---RETRIEVING CONTEXT---\n",
      "Device Name: Dialysis Machine. Model: Model 7456. Manufacturer: Thermo Fisher Scientific. Indications: Used for electrotherapy guidance in oncology treatment centers for cancer patients.. Contraindications: Not suitable for use during electromagnetic therapy or X-ray.\n",
      "Device Name: Insulin Pump. Model: SIE362. Manufacturer: Siemens Healthineers. Indications: Designed for defibrillation support in neonatal intensive care environments.. Contraindications: Contraindicated in patients with severe anemia or unable to follow instructions.\n",
      "Device Name: Defibrillator. Model: B. 342. Manufacturer: B. Braun. Indications: Used for intraoperative infection prevention monitoring during complex ophthalmic surgeries.. Contraindications: Avoid use in patients with severe cardiac arrhythmias or severe severe osteoporosis.\n",
      "'Finished running: Retrieve_Device:'\n",
      "---CONTEXT RELEVANCE CHECKER---\n",
      "---RELEVANCE DECISION: No---\n",
      "'Finished running: Relevance_Checker:'\n",
      "---PERFORMING WEB SEARCH---\n",
      "A diálise é um tratamento que permite a substituição de algumas das funções mais importantes dos nossos rins, nomeadamente a regulação do volume ... Descubra os critérios de segurança obrigatórios para a utilização do dialisador na hemodiálise, conforme exigido pela legislação brasileira. Em pessoas com insuficiência renal, muitos médicos recomendam diálise quando os exames de sangue mostram que os rins não conseguem mais filtrar os resíduos ... Saiba qual é o cateter utilizado na diálise peritoneal, seus diferenciais, características técnicas e como ele contribui para mais segurança. A hemodiálise é um tratamento para a insuficiência renal que tem o objetivo de filtrar o sangue, retirando dele substâncias tóxicas que se acumulam pelo não ... destacam os materiais de uso médico: dialisadores, linhas arterial e venosa, isoladores de pressão, agulhas de fístula, soluções de hemodiálise etc. Quanto ... Quando os seus rins começam a falhar, existem três formas de tratamento disponíveis: Hemodiálise,; Diálise peritoneal e o; Transplante. Os três tratamentos são ... A hemodiálise está indicada para pacientes com insuficiência renal aguda ou crônica graves. A indicação de iniciar esse tratamento é feita pelo médico ... Hemodiálise domiciliar (HD Domiciliar) é uma opção de terapia que filtra seu sangue fora de seu corpo utilizando uma máquina de diálise e um filtro ... O Dynamis AV é um cateter balão de dilatação indicado para o tratamento de lesões obstrutivas de fístulas de diálise arteriovenosa nativas ou sintéticas. Saiba ...\n",
      "'Finished running: Web_Search:'\n",
      "---CONTEXT RELEVANCE CHECKER---\n",
      "---RELEVANCE DECISION: Yes---\n",
      "'Finished running: Relevance_Checker:'\n",
      "---AUGMENT (BUILDING GENERATIVE PROMPT)---\n",
      "\n",
      "            Responda a seguinte pergunta usando, APENAS, o contexto fornecido abaixo.\n",
      "            Sempre responda em português brasileiro (pt-br).\n",
      "\n",
      "            Contexto:\n",
      "            A diálise é um tratamento que permite a substituição de algumas das funções mais importantes dos nossos rins, nomeadamente a regulação do volume ... Descubra os critérios de segurança obrigatórios para a utilização do dialisador na hemodiálise, conforme exigido pela legislação brasileira. Em pessoas com insuficiência renal, muitos médicos recomendam diálise quando os exames de sangue mostram que os rins não conseguem mais filtrar os resíduos ... Saiba qual é o cateter utilizado na diálise peritoneal, seus diferenciais, características técnicas e como ele contribui para mais segurança. A hemodiálise é um tratamento para a insuficiência renal que tem o objetivo de filtrar o sangue, retirando dele substâncias tóxicas que se acumulam pelo não ... destacam os materiais de uso médico: dialisadores, linhas arterial e venosa, isoladores de pressão, agulhas de fístula, soluções de hemodiálise etc. Quanto ... Quando os seus rins começam a falhar, existem três formas de tratamento disponíveis: Hemodiálise,; Diálise peritoneal e o; Transplante. Os três tratamentos são ... A hemodiálise está indicada para pacientes com insuficiência renal aguda ou crônica graves. A indicação de iniciar esse tratamento é feita pelo médico ... Hemodiálise domiciliar (HD Domiciliar) é uma opção de terapia que filtra seu sangue fora de seu corpo utilizando uma máquina de diálise e um filtro ... O Dynamis AV é um cateter balão de dilatação indicado para o tratamento de lesões obstrutivas de fístulas de diálise arteriovenosa nativas ou sintéticas. Saiba ...\n",
      "\n",
      "            Pergunta: Quais são as indicações de uso do dispositivo para diálise?\n",
      "            Por favor, limite sua resposta em 50 palavras.\n",
      "            \n",
      "'Finished running: Augment:'\n",
      "---GENERATE (CALLING LLM)---\n",
      "'Finished running: Generate:'\n"
     ]
    }
   ],
   "source": [
    "from pprint import pprint\n",
    "\n",
    "\n",
    "input_state = {\"query\": \"Quais são as indicações de uso do dispositivo para diálise?\"}\n",
    "\n",
    "for step in agentic_rag.stream(input_state):\n",
    "    for key, value in step.items():\n",
    "        pprint(f\"Finished running: {key}:\")"
   ]
  },
  {
   "cell_type": "code",
   "execution_count": 37,
   "id": "83a49f40",
   "metadata": {},
   "outputs": [
    {
     "name": "stdout",
     "output_type": "stream",
     "text": [
      "('Para a diálise (hemodiálise), a indicação é para pacientes com insuficiência '\n",
      " 'renal aguda ou crônica graves. A decisão de iniciar o tratamento é feita '\n",
      " 'pelo médico, com base na avaliação clínica e nos exames laboratoriais.')\n"
     ]
    }
   ],
   "source": [
    "pprint(value[\"response\"])"
   ]
  },
  {
   "cell_type": "code",
   "execution_count": 38,
   "id": "bddac563",
   "metadata": {},
   "outputs": [
    {
     "name": "stdout",
     "output_type": "stream",
     "text": [
      "---ROUTER DECISION: Web_Search---\n",
      "Web_Search\n",
      "'Finished running: Router:'\n",
      "---PERFORMING WEB SEARCH---\n",
      "“A partir de 1º de outubro de 2025, estaremos impondo uma tarifa de 100% sobre qualquer produto farmacêutico de marca ou patenteado, a menos que ... Missing: alíquota exportação. Despite the U.S. imposing 100% tariffs on Indian pharmaceutical drugs, India's pharma exports are set to surge past $30 billion in 2025, ... Missing: alíquota exportação medicamentos. As vendas no país aumentaram 20%, para aproximadamente US$ 10,5 bilhões no ano fiscal de 2025. \"A Índia quer aumentar as exportações para outros ... Missing: alíquota | Show results with:alíquota. Medicamentos são isentos de tarifas. Se a Índia parar as exportações de remédios para os EUA, é suicídio para as empresas farmacêuticas locais. Missing: alíquota | Show results with:alíquota. A indústria farmacêutica da Índia está atualmente isenta das tarifas de até 50% impostas pelo presidente dos Estados Unidos, Donald Trump, mas o ... Missing: alíquota | Show results with:alíquota. Uma alíquota de 25% sobre produtos indianos entrou em vigor no início deste mês, mas Trump anunciou planos para dobrar a parcela, argumentando ... Na semana passada, o republicano assinou um decreto que aumenta as tarifas alfandegárias entre 15% e 41% para dezenas de parceiros comerciais a ... Missing: alíquota exportação. Another $3.7 billion (Rs 32,505 crore) worth of pharma products were exported in just the first half of 2025. Per reports, India supplies over ... A taxa de 15% é definitiva e não será afetada pelas tarifas relacionadas à segurança nacional que Trump deve impor sobre produtos farmacêuticos ... Entre 2023 e o início de 2024, os Estados Unidos foram o destino de 19% das exportações indianas, segundo a Descartes, sendo a maioria realizada ... Missing: alíquota | Show results with:alíquota.\n",
      "'Finished running: Web_Search:'\n",
      "---CONTEXT RELEVANCE CHECKER---\n",
      "---RELEVANCE DECISION: Yes---\n",
      "'Finished running: Relevance_Checker:'\n",
      "---AUGMENT (BUILDING GENERATIVE PROMPT)---\n",
      "\n",
      "            Responda a seguinte pergunta usando, APENAS, o contexto fornecido abaixo.\n",
      "            Sempre responda em português brasileiro (pt-br).\n",
      "\n",
      "            Contexto:\n",
      "            “A partir de 1º de outubro de 2025, estaremos impondo uma tarifa de 100% sobre qualquer produto farmacêutico de marca ou patenteado, a menos que ... Missing: alíquota exportação. Despite the U.S. imposing 100% tariffs on Indian pharmaceutical drugs, India's pharma exports are set to surge past $30 billion in 2025, ... Missing: alíquota exportação medicamentos. As vendas no país aumentaram 20%, para aproximadamente US$ 10,5 bilhões no ano fiscal de 2025. \"A Índia quer aumentar as exportações para outros ... Missing: alíquota | Show results with:alíquota. Medicamentos são isentos de tarifas. Se a Índia parar as exportações de remédios para os EUA, é suicídio para as empresas farmacêuticas locais. Missing: alíquota | Show results with:alíquota. A indústria farmacêutica da Índia está atualmente isenta das tarifas de até 50% impostas pelo presidente dos Estados Unidos, Donald Trump, mas o ... Missing: alíquota | Show results with:alíquota. Uma alíquota de 25% sobre produtos indianos entrou em vigor no início deste mês, mas Trump anunciou planos para dobrar a parcela, argumentando ... Na semana passada, o republicano assinou um decreto que aumenta as tarifas alfandegárias entre 15% e 41% para dezenas de parceiros comerciais a ... Missing: alíquota exportação. Another $3.7 billion (Rs 32,505 crore) worth of pharma products were exported in just the first half of 2025. Per reports, India supplies over ... A taxa de 15% é definitiva e não será afetada pelas tarifas relacionadas à segurança nacional que Trump deve impor sobre produtos farmacêuticos ... Entre 2023 e o início de 2024, os Estados Unidos foram o destino de 19% das exportações indianas, segundo a Descartes, sendo a maioria realizada ... Missing: alíquota | Show results with:alíquota.\n",
      "\n",
      "            Pergunta: Qual é a alíquota de exportação de medicamentos na Índia em 2025?\n",
      "            Por favor, limite sua resposta em 50 palavras.\n",
      "            \n",
      "'Finished running: Augment:'\n",
      "---GENERATE (CALLING LLM)---\n",
      "'Finished running: Generate:'\n"
     ]
    }
   ],
   "source": [
    "from pprint import pprint\n",
    "\n",
    "input_state = {\"query\": \"Qual é a alíquota de exportação de medicamentos na Índia em 2025?\"}\n",
    "\n",
    "for step in agentic_rag.stream(input_state):\n",
    "    for key, value in step.items():\n",
    "        pprint(f\"Finished running: {key}:\")\n"
   ]
  },
  {
   "cell_type": "code",
   "execution_count": 40,
   "id": "c1e399a8",
   "metadata": {},
   "outputs": [
    {
     "name": "stdout",
     "output_type": "stream",
     "text": [
      "'A alíquota de exportação de medicamentos na Índia em 2025 é de 15%.'\n"
     ]
    }
   ],
   "source": [
    "pprint(value[\"response\"])"
   ]
  },
  {
   "cell_type": "code",
   "execution_count": 41,
   "id": "44cb8237",
   "metadata": {},
   "outputs": [
    {
     "name": "stdout",
     "output_type": "stream",
     "text": [
      "---ROUTER DECISION: Retrieve_QnA---\n",
      "Retrieve_QnA\n",
      "'Finished running: Router:'\n",
      "---RETRIEVING CONTEXT---\n",
      "Question: how can these diseases be treated for Marine Toxins ?. Answer: Other than supportive care there are few specific treatments for ciguatera poisoning, paralytic shellfish poisoning, neurotoxic shellfish poisoning, or amnesic shellfish poisoning. Antihistamines and epinephrine, however, may sometimes be useful in treating the symptoms of scombrotoxic fish poisoning. Intravenous mannitol has been suggested for the treatment of severe ciguatera poisoning.. Type: treatment. \n",
      "Question: What are the treatments for Lymphocytic Choriomeningitis (LCM) ?. Answer: Aseptic meningitis, encephalitis, or meningoencephalitis requires hospitalization and supportive treatment based on severity. Anti-inflammatory drugs, such as corticosteroids, may be considered under specific circumstances. Although studies have shown that ribavirin, a drug used to treat several other viral diseases, is effective against LCMV in vitro, there is no established evidence to support its routine use for treatment of LCM in humans.. Type: treatment. \n",
      "Question: What are the treatments for Parasites - Trichuriasis (also known as Whipworm Infection) ?. Answer: Anthelminthic medications (drugs that rid the body of parasitic worms), such as albendazole and mebendazole, are the drugs of choice for treatment. Infections are generally treated for 3 days. The recommended medications are effective. Health care providers may decide to repeat a stool exam after treatment. Iron supplements may also be prescribed if the infected person suffers from anemia.\n",
      "    \n",
      "More on: Resources for Health Professionals: Treatment. Type: treatment. \n",
      "'Finished running: Retrieve_QnA:'\n",
      "---CONTEXT RELEVANCE CHECKER---\n",
      "---RELEVANCE DECISION: No---\n",
      "'Finished running: Relevance_Checker:'\n",
      "---PERFORMING WEB SEARCH---\n",
      "Antipiréticos (paracetamol): para diminuir a temperatura e combater a febre; · Analgésicos (paracetamol, ibuprofeno): para aliviar as dores ... Tratamentos antivirais orais para COVID-19 – Paxlovid e Lagevrio. Os antivirais orais são medicamentos administrados por via oral para tratar sintomas leves ... Cada dose do tratamento contém dois comprimidos de 150mg de nirmatrelvir (total de 300mg) e um comprimido de ritonavir (100mg), que devem ser ... Paxlovid (Nirmatrelvir + Ritonavir), Antiviral, Tratamento da doença provocada pelo coronavírus 2019 (COVID-19) em adultos que não necessitam de oxigénio ... Confira os principais questionamentos recebidos pela Anvisa sobre os medicamentos utilizados para a prevenção e o tratamento da COVID-19 e pesquisas ... Aminossalicilatos (Asacol®, Apriso™, Canasa®, Delzicol™, Lialda™, Pentasa®, Rowasa®) ou outros aminossalicilatos são considerados seguros e podem ser ... Liderada pela Universidade de Oxford, são considerados atualmente os tratamentos com dexametasona, azitromicina, plasma convalescente, tocilizumabe e REGN-COV2. Um dos assuntos mais polêmicos ao se falar no combate à Covid-19 é o uso dos medicamentos cloroquina e hidroxicloroquina. No início da pandemia no Brasil, ... Anti-inflamatórios, para conter reações exageradas e potencialmente letais do nosso sistema imune; · Drogas antivirais que dificultam a ... Existem estudos clínicos avaliando a eficácia e segurança de medicamentos de diferentes classes (antivirais, antirretrovirais, coticoesteróides,.\n",
      "'Finished running: Web_Search:'\n",
      "---CONTEXT RELEVANCE CHECKER---\n",
      "---RELEVANCE DECISION: Yes---\n",
      "'Finished running: Relevance_Checker:'\n",
      "---AUGMENT (BUILDING GENERATIVE PROMPT)---\n",
      "\n",
      "            Responda a seguinte pergunta usando, APENAS, o contexto fornecido abaixo.\n",
      "            Sempre responda em português brasileiro (pt-br).\n",
      "\n",
      "            Contexto:\n",
      "            Antipiréticos (paracetamol): para diminuir a temperatura e combater a febre; · Analgésicos (paracetamol, ibuprofeno): para aliviar as dores ... Tratamentos antivirais orais para COVID-19 – Paxlovid e Lagevrio. Os antivirais orais são medicamentos administrados por via oral para tratar sintomas leves ... Cada dose do tratamento contém dois comprimidos de 150mg de nirmatrelvir (total de 300mg) e um comprimido de ritonavir (100mg), que devem ser ... Paxlovid (Nirmatrelvir + Ritonavir), Antiviral, Tratamento da doença provocada pelo coronavírus 2019 (COVID-19) em adultos que não necessitam de oxigénio ... Confira os principais questionamentos recebidos pela Anvisa sobre os medicamentos utilizados para a prevenção e o tratamento da COVID-19 e pesquisas ... Aminossalicilatos (Asacol®, Apriso™, Canasa®, Delzicol™, Lialda™, Pentasa®, Rowasa®) ou outros aminossalicilatos são considerados seguros e podem ser ... Liderada pela Universidade de Oxford, são considerados atualmente os tratamentos com dexametasona, azitromicina, plasma convalescente, tocilizumabe e REGN-COV2. Um dos assuntos mais polêmicos ao se falar no combate à Covid-19 é o uso dos medicamentos cloroquina e hidroxicloroquina. No início da pandemia no Brasil, ... Anti-inflamatórios, para conter reações exageradas e potencialmente letais do nosso sistema imune; · Drogas antivirais que dificultam a ... Existem estudos clínicos avaliando a eficácia e segurança de medicamentos de diferentes classes (antivirais, antirretrovirais, coticoesteróides,.\n",
      "\n",
      "            Pergunta: Quais são os medicamentos/tratamentos para a COVID?\n",
      "            Por favor, limite sua resposta em 50 palavras.\n",
      "            \n",
      "'Finished running: Augment:'\n",
      "---GENERATE (CALLING LLM)---\n",
      "'Finished running: Generate:'\n",
      "('Medicamentos para COVID mencionados: antipiréticos (paracetamol) para febre; '\n",
      " 'analgésicos (paracetamol, ibuprofeno) para dores; antivirais orais: Paxlovid '\n",
      " '(Nirmatrelvir + Ritonavir) e Lagevrio; dexametasona, azitromicina, plasma '\n",
      " 'convalescente, tocilizumabe e REGN-COV2; anti-inflamatórios; '\n",
      " 'cloroquina/hidroxicloroquina (controverso).')\n"
     ]
    }
   ],
   "source": [
    "from pprint import pprint\n",
    "\n",
    "input_state = {\"query\": \"Quais são os medicamentos/tratamentos para a COVID?\"}\n",
    "\n",
    "\n",
    "for step in agentic_rag.stream(input_state):\n",
    "    for key, value in step.items():\n",
    "        pprint(f\"Finished running: {key}:\")\n",
    "\n",
    "\n",
    "pprint(value[\"response\"])"
   ]
  },
  {
   "cell_type": "code",
   "execution_count": 43,
   "metadata": {},
   "outputs": [
    {
     "name": "stdout",
     "output_type": "stream",
     "text": [
      "---ROUTER DECISION: Web_Search---\n",
      "Web_Search\n",
      "'Finished running: Router:'\n",
      "---PERFORMING WEB SEARCH---\n",
      "As a data scientist at VIXPar, I will work with large volumes of data from logistics, fleet management, and urban mobility operations. Missing: nasceu | Show results with:nasceu. No início da crise, muitos engenheiros, contadores e gerentes, ficaram desempregados e foram obrigados a fazer bico de motorista de aplicativo para... Eddy Giusepe Chirinos isidro. 6,38. 4,40. 5,99. 2. Márcio. Kayodê David de Melo Souza. 5,44. 0,00. 4,35. 3. Wellington. CANDIDATO. ETAPA 1 ETAPA 2 NOTA FINAL. 14, Eddy Giusepe Chirinos Isidro, UFES ; 15, Felipe de Melo Santos, UFES ; 16, Felipe Tovar Falciano, CBPF ; 17, Guilherme Brando De Oliveira, UFES. Eddy Giusepe Chirinos Isidro. Edher de Souza Ferreira de Miranda. Eliane Quintiliano Nascimento. Isabela Ariane Bujato. Layziane Souza Silva. Leonardo Aranha ... Control Number. Requester Name. Trk Scanned. Created. Subject. BLR2015000038. Appel, Edward. 1. 10/14/2015. 10/16/2015. Missing: Giusepe | Show results with:Giusepe. 49KG –. LEANDRO BLANC – ARGENTINA (ARG). Date Of Birth : 02/05/1993. Height : 156cm. Coach : Ramon Gonzalez; Fabricio Nieva. Club : Concordia. Missing: Giusepe | Show results with:Giusepe. EDDY GIUSEPE CHIRINOS ISIDRO. 1,00. -. -. 0,50. -. Desclassificado. 0001519. SILVIO CORDEIRO JUNIOR. -. -. -. -. -. Desclassificado. 0001248. JOSE CARLOS NUNES. Eddy André Yupanqui Apolinario; Angel Rodriguez Carrillo. #1180: Using data ... #1427: Training proposal in the San Isidro El Labrador Agricultural ...\n",
      "'Finished running: Web_Search:'\n",
      "---CONTEXT RELEVANCE CHECKER---\n",
      "---RELEVANCE DECISION: No---\n",
      "'Finished running: Relevance_Checker:'\n",
      "---PERFORMING WEB SEARCH---\n",
      "Também adquiri conhecimentos em Wolfram Mathematica, estatística (Frequentista e Bayesiana), regressão e ajuste de modelos com dados observacionais, ... Missing: nasceu | Show results with:nasceu. Porquê será hein? 3 yrs. Eddy Giusepe Chirinos Isidro. Os médicos, a maioria, só estudaram pela grana e não para ajudar ao próximo. A MAIORIA de médicos não ... Eddy Giusepe Chirinos Isidro, PhD. Senior AI Data Scientist |Python|ML DL ... José Carlos Isidro Nascimento Junior. Electrical Engineer at GOL Airlines. Eddy Giusepe Chirinos isidro. 6,38. 4,40. 5,99. 2. Márcio. Kayodê David de Melo Souza. 5,44. 0,00. 4,35. 3. Wellington. CANDIDATO. ETAPA 1 ETAPA 2 NOTA FINAL. Eddy Giusepe Chirinos Isidro, UFES. 15, Felipe de Melo Santos, UFES. 16, Felipe Tovar Falciano, CBPF. 17, Guilherme Brando De Oliveira, UFES. 18, Gustavo Dotti ... Eddy Giusepe Chirinos Isidro. Edher de Souza Ferreira de Miranda. Eliane Quintiliano Nascimento. Isabela Ariane Bujato. Layziane Souza Silva. Leonardo Aranha ... ... Eddy Giusepe Chirinos Isidro; Spacetime Singularities in Generalized Brans-Dicke Theories - Guilherme Brando De Oliveira GuilhermeBdeOliveira.pptx ... 49KG –. LEANDRO BLANC – ARGENTINA (ARG). Date Of Birth : 02/05/1993. Height : 156cm. Coach : Ramon Gonzalez; Fabricio Nieva. Club : Concordia. Missing: Giusepe | Show results with:Giusepe. ... Isidro. 2. 09/28/2015. 10/01/2015 withheld pursuant to (b)(6 ... Eddy. 2. 09/30/2015. 10/02/2015 withheld pursuant to (b)(6). NRC2015124656. Missing: Giusepe | Show results with:Giusepe.\n",
      "'Finished running: Web_Search:'\n",
      "---CONTEXT RELEVANCE CHECKER---\n",
      "---RELEVANCE DECISION: No---\n",
      "'Finished running: Relevance_Checker:'\n",
      "---PERFORMING WEB SEARCH---\n",
      "Também adquiri conhecimentos em Wolfram Mathematica, estatística (Frequentista e Bayesiana), regressão e ajuste de modelos com dados observacionais, ... Missing: nasceu | Show results with:nasceu. Porquê será hein? 3 yrs. Eddy Giusepe Chirinos Isidro. Os médicos, a maioria, só estudaram pela grana e não para ajudar ao próximo. A MAIORIA de médicos não ... Eddy Giusepe Chirinos isidro. 6,38. 4,40. 5,99. 2. Márcio. Kayodê David de Melo Souza. 5,44. 0,00. 4,35. 3. Wellington. CANDIDATO. ETAPA 1 ETAPA 2 NOTA FINAL. Eddy Giusepe Chirinos Isidro, PhD. Senior AI Data Scientist |Python|ML DL ... José Carlos Isidro Nascimento Junior. Electrical Engineer at GOL Airlines. Eddy Giusepe Chirinos Isidro, UFES. 15, Felipe de Melo Santos, UFES. 16, Felipe Tovar Falciano, CBPF. 17, Guilherme Brando De Oliveira, UFES. 18, Gustavo Dotti ... Eddy Giusepe Chirinos Isidro. Edher de Souza Ferreira de Miranda. Eliane Quintiliano Nascimento. Isabela Ariane Bujato. Layziane Souza Silva. Leonardo Aranha ... ... Eddy Giusepe Chirinos Isidro; Spacetime Singularities in Generalized Brans-Dicke Theories - Guilherme Brando De Oliveira GuilhermeBdeOliveira.pptx ... ... Isidro. 2. 09/28/2015. 10/01/2015 withheld pursuant to (b)(6 ... Eddy. 2. 09/30/2015. 10/02/2015 withheld pursuant to (b)(6). NRC2015124656. Missing: Giusepe | Show results with:Giusepe. 49KG –. LEANDRO BLANC – ARGENTINA (ARG). Date Of Birth : 02/05/1993. Height : 156cm. Coach : Ramon Gonzalez; Fabricio Nieva. Club : Concordia. Missing: Giusepe | Show results with:Giusepe.\n",
      "'Finished running: Web_Search:'\n",
      "---CONTEXT RELEVANCE CHECKER---\n",
      "---RELEVANCE DECISION: No---\n",
      "'Finished running: Relevance_Checker:'\n",
      "---PERFORMING WEB SEARCH---\n",
      "Também adquiri conhecimentos em Wolfram Mathematica, estatística (Frequentista e Bayesiana), regressão e ajuste de modelos com dados observacionais, ... Missing: nasceu | Show results with:nasceu. Porquê será hein? 3 yrs. Eddy Giusepe Chirinos Isidro. Os médicos, a maioria, só estudaram pela grana e não para ajudar ao próximo. A MAIORIA de médicos não ... Eddy Giusepe Chirinos isidro. 6,38. 4,40. 5,99. 2. Márcio. Kayodê David de Melo Souza. 5,44. 0,00. 4,35. 3. Wellington. CANDIDATO. ETAPA 1 ETAPA 2 NOTA FINAL. Eddy Giusepe Chirinos Isidro, PhD. Senior AI Data Scientist |Python|ML DL ... José Carlos Isidro Nascimento Junior. Electrical Engineer at GOL Airlines. Eddy Giusepe Chirinos Isidro, UFES. 15, Felipe de Melo Santos, UFES. 16, Felipe Tovar Falciano, CBPF. 17, Guilherme Brando De Oliveira, UFES. 18, Gustavo Dotti ... Eddy Giusepe Chirinos Isidro. Edher de Souza Ferreira de Miranda. Eliane Quintiliano Nascimento. Isabela Ariane Bujato. Layziane Souza Silva. Leonardo Aranha ... ... Eddy Giusepe Chirinos Isidro; Spacetime Singularities in Generalized Brans-Dicke Theories - Guilherme Brando De Oliveira GuilhermeBdeOliveira.pptx ... ... Isidro. 2. 09/28/2015. 10/01/2015 withheld pursuant to (b)(6 ... Eddy. 2. 09/30/2015. 10/02/2015 withheld pursuant to (b)(6). NRC2015124656. Missing: Giusepe | Show results with:Giusepe. 49KG –. LEANDRO BLANC – ARGENTINA (ARG). Date Of Birth : 02/05/1993. Height : 156cm. Coach : Ramon Gonzalez; Fabricio Nieva. Club : Concordia. Missing: Giusepe | Show results with:Giusepe.\n",
      "'Finished running: Web_Search:'\n",
      "---CONTEXT RELEVANCE CHECKER---\n",
      "---RELEVANCE DECISION: Yes---\n",
      "'Finished running: Relevance_Checker:'\n",
      "---AUGMENT (BUILDING GENERATIVE PROMPT)---\n",
      "\n",
      "            Responda a seguinte pergunta usando, APENAS, o contexto fornecido abaixo.\n",
      "            Sempre responda em português brasileiro (pt-br).\n",
      "\n",
      "            Contexto:\n",
      "            Também adquiri conhecimentos em Wolfram Mathematica, estatística (Frequentista e Bayesiana), regressão e ajuste de modelos com dados observacionais, ... Missing: nasceu | Show results with:nasceu. Porquê será hein? 3 yrs. Eddy Giusepe Chirinos Isidro. Os médicos, a maioria, só estudaram pela grana e não para ajudar ao próximo. A MAIORIA de médicos não ... Eddy Giusepe Chirinos isidro. 6,38. 4,40. 5,99. 2. Márcio. Kayodê David de Melo Souza. 5,44. 0,00. 4,35. 3. Wellington. CANDIDATO. ETAPA 1 ETAPA 2 NOTA FINAL. Eddy Giusepe Chirinos Isidro, PhD. Senior AI Data Scientist |Python|ML DL ... José Carlos Isidro Nascimento Junior. Electrical Engineer at GOL Airlines. Eddy Giusepe Chirinos Isidro, UFES. 15, Felipe de Melo Santos, UFES. 16, Felipe Tovar Falciano, CBPF. 17, Guilherme Brando De Oliveira, UFES. 18, Gustavo Dotti ... Eddy Giusepe Chirinos Isidro. Edher de Souza Ferreira de Miranda. Eliane Quintiliano Nascimento. Isabela Ariane Bujato. Layziane Souza Silva. Leonardo Aranha ... ... Eddy Giusepe Chirinos Isidro; Spacetime Singularities in Generalized Brans-Dicke Theories - Guilherme Brando De Oliveira GuilhermeBdeOliveira.pptx ... ... Isidro. 2. 09/28/2015. 10/01/2015 withheld pursuant to (b)(6 ... Eddy. 2. 09/30/2015. 10/02/2015 withheld pursuant to (b)(6). NRC2015124656. Missing: Giusepe | Show results with:Giusepe. 49KG –. LEANDRO BLANC – ARGENTINA (ARG). Date Of Birth : 02/05/1993. Height : 156cm. Coach : Ramon Gonzalez; Fabricio Nieva. Club : Concordia. Missing: Giusepe | Show results with:Giusepe.\n",
      "\n",
      "            Pergunta: Onde nasceu Eddy Giusepe Chirinos Isidro?\n",
      "            Por favor, limite sua resposta em 50 palavras.\n",
      "            \n",
      "'Finished running: Augment:'\n",
      "---GENERATE (CALLING LLM)---\n",
      "'Finished running: Generate:'\n",
      "('No contexto fornecido, não há informação sobre onde nasceu Eddy Giusepe '\n",
      " 'Chirinos Isidro.')\n"
     ]
    }
   ],
   "source": [
    "from pprint import pprint\n",
    "\n",
    "input_state = {\"query\": \"Onde nasceu Eddy Giusepe Chirinos Isidro?\"}\n",
    "\n",
    "\n",
    "for step in agentic_rag.stream(input_state):\n",
    "    for key, value in step.items():\n",
    "        pprint(f\"Finished running: {key}:\")\n",
    "\n",
    "\n",
    "pprint(value[\"response\"])"
   ]
  },
  {
   "cell_type": "code",
   "execution_count": null,
   "id": "14f5d786",
   "metadata": {},
   "outputs": [],
   "source": []
  }
 ],
 "metadata": {
  "kernelspec": {
   "display_name": ".venv",
   "language": "python",
   "name": "python3"
  },
  "language_info": {
   "codemirror_mode": {
    "name": "ipython",
    "version": 3
   },
   "file_extension": ".py",
   "mimetype": "text/x-python",
   "name": "python",
   "nbconvert_exporter": "python",
   "pygments_lexer": "ipython3",
   "version": "3.11.13"
  }
 },
 "nbformat": 4,
 "nbformat_minor": 5
}
